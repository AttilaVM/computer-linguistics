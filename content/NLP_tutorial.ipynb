{
 "cells": [
  {
   "cell_type": "markdown",
   "metadata": {},
   "source": [
    "# Setup"
   ]
  },
  {
   "cell_type": "code",
   "execution_count": 1,
   "metadata": {},
   "outputs": [],
   "source": [
    "import re\n",
    "import requests\n",
    "from bs4 import BeautifulSoup as bs\n",
    "\n",
    "import numpy as np\n",
    "import pandas as pd\n",
    "\n",
    "import spacy\n",
    "from spacy import displacy "
   ]
  },
  {
   "cell_type": "markdown",
   "metadata": {},
   "source": [
    "N gram module for word similarity"
   ]
  },
  {
   "cell_type": "code",
   "execution_count": 2,
   "metadata": {},
   "outputs": [],
   "source": [
    "import ngram"
   ]
  },
  {
   "cell_type": "markdown",
   "metadata": {},
   "source": [
    "N gram sub-packages from the Natural Language Tool Kit"
   ]
  },
  {
   "cell_type": "code",
   "execution_count": 3,
   "metadata": {},
   "outputs": [],
   "source": [
    "from nltk import bigrams, trigrams\n",
    "from collections import Counter, defaultdict"
   ]
  },
  {
   "cell_type": "code",
   "execution_count": 4,
   "metadata": {},
   "outputs": [],
   "source": [
    "from sympy import Matrix"
   ]
  },
  {
   "cell_type": "markdown",
   "metadata": {},
   "source": [
    "# Download data"
   ]
  },
  {
   "cell_type": "code",
   "execution_count": 5,
   "metadata": {},
   "outputs": [],
   "source": [
    "response_northern = requests.get(\"http://www.gutenberg.org/files/18947/18947-h/18947-h.htm\")"
   ]
  },
  {
   "cell_type": "code",
   "execution_count": 6,
   "metadata": {},
   "outputs": [],
   "source": [
    "html_text_northern = response_northern.text"
   ]
  },
  {
   "cell_type": "code",
   "execution_count": 7,
   "metadata": {},
   "outputs": [
    {
     "data": {
      "text/plain": [
       "(2266, 2261)"
      ]
     },
     "execution_count": 7,
     "metadata": {},
     "output_type": "execute_result"
    }
   ],
   "source": [
    "m = re.findall(r\"<p[^>]*>\", html_text_northern)\n",
    "n = re.findall(r\"</p>\", html_text_northern)\n",
    "(len(m), len(n))"
   ]
  },
  {
   "cell_type": "code",
   "execution_count": 8,
   "metadata": {},
   "outputs": [],
   "source": [
    "response_greek = requests.get(\"http://www.gutenberg.org/files/32326/32326-h/32326-h.htm\")"
   ]
  },
  {
   "cell_type": "code",
   "execution_count": 9,
   "metadata": {},
   "outputs": [],
   "source": [
    "html_text_greek = response_greek.text"
   ]
  },
  {
   "cell_type": "markdown",
   "metadata": {},
   "source": [
    "# Preprocessing"
   ]
  },
  {
   "cell_type": "markdown",
   "metadata": {},
   "source": [
    "## Parse HTML with BeautifulSoup"
   ]
  },
  {
   "cell_type": "code",
   "execution_count": 10,
   "metadata": {},
   "outputs": [],
   "source": [
    "soup_greek = bs(html_text_greek, 'html.parser')"
   ]
  },
  {
   "cell_type": "code",
   "execution_count": 11,
   "metadata": {},
   "outputs": [
    {
     "name": "stdout",
     "output_type": "stream",
     "text": [
      "<!DOCTYPE html PUBLIC \"-//W3C//DTD XHTML 1.0 Strict//EN\"\n",
      "    \"http://www.w3.org/TR/xhtml1/DTD/xhtml1-strict.dtd\">\n",
      "<html xmlns=\"http://www.w3.org/1999/xhtml\">\n",
      " <head>\n",
      "  <meta content=\"text/html; charset=utf-8\" http-equiv=\"Content-Type\"/>\n",
      "  <title>\n",
      "   The Project Gutenberg eBook of Tales of Troy and Greece, by Andrew Lang\n",
      "  </title>\n",
      "  <style type=\"text/css\">\n",
      "   body {\n",
      "    margin-left: 10%;\n",
      "    margin-right: 10%;\n",
      "}\n",
      "\n",
      "    h1,h2,h3,h4,h5,h6 {\n",
      "    text-align: center; /* all headings centered */\n",
      "    clear: both;\n",
      "}\n",
      "\n",
      "p {\n",
      "\n"
     ]
    }
   ],
   "source": [
    "match = re.search(r\"^([^\\n]*\\n){20}\", soup_greek.prettify())\n",
    "print(match.group(0))"
   ]
  },
  {
   "cell_type": "markdown",
   "metadata": {},
   "source": [
    "## Extract stories"
   ]
  },
  {
   "cell_type": "code",
   "execution_count": 12,
   "metadata": {},
   "outputs": [
    {
     "data": {
      "text/html": [
       "<div>\n",
       "<style scoped>\n",
       "    .dataframe tbody tr th:only-of-type {\n",
       "        vertical-align: middle;\n",
       "    }\n",
       "\n",
       "    .dataframe tbody tr th {\n",
       "        vertical-align: top;\n",
       "    }\n",
       "\n",
       "    .dataframe thead th {\n",
       "        text-align: right;\n",
       "    }\n",
       "</style>\n",
       "<table border=\"1\" class=\"dataframe\">\n",
       "  <thead>\n",
       "    <tr style=\"text-align: right;\">\n",
       "      <th></th>\n",
       "      <th>epos_name</th>\n",
       "      <th>chapter_name</th>\n",
       "      <th>body</th>\n",
       "    </tr>\n",
       "  </thead>\n",
       "  <tbody>\n",
       "    <tr>\n",
       "      <th>0</th>\n",
       "      <td>ULYSSES_THE_SACKER_OF_CITIES</td>\n",
       "      <td>THE BOYHOOD AND PARENTS OF ULYSSES</td>\n",
       "      <td>Long ago, in a little island called Ithaca, on...</td>\n",
       "    </tr>\n",
       "    <tr>\n",
       "      <th>1</th>\n",
       "      <td>ULYSSES_THE_SACKER_OF_CITIES</td>\n",
       "      <td>HOW PEOPLE LIVED IN THE TIME OF ULYSSES</td>\n",
       "      <td>There were bath rooms with polished baths, whe...</td>\n",
       "    </tr>\n",
       "    <tr>\n",
       "      <th>2</th>\n",
       "      <td>ULYSSES_THE_SACKER_OF_CITIES</td>\n",
       "      <td>THE WOOING OF HELEN OF THE FAIR HANDS</td>\n",
       "      <td>Tyndarus first made all the princes take an oa...</td>\n",
       "    </tr>\n",
       "    <tr>\n",
       "      <th>3</th>\n",
       "      <td>ULYSSES_THE_SACKER_OF_CITIES</td>\n",
       "      <td>THE STEALING OF HELEN</td>\n",
       "      <td>This happy time did not last long, and Telemac...</td>\n",
       "    </tr>\n",
       "    <tr>\n",
       "      <th>4</th>\n",
       "      <td>ULYSSES_THE_SACKER_OF_CITIES</td>\n",
       "      <td>TROJAN VICTORIES</td>\n",
       "      <td>Then Agamemnon hastened here and there, biddin...</td>\n",
       "    </tr>\n",
       "    <tr>\n",
       "      <th>5</th>\n",
       "      <td>ULYSSES_THE_SACKER_OF_CITIES</td>\n",
       "      <td>BATTLE AT THE SHIPS</td>\n",
       "      <td>The armies rushed on each other and hewed each...</td>\n",
       "    </tr>\n",
       "    <tr>\n",
       "      <th>6</th>\n",
       "      <td>ULYSSES_THE_SACKER_OF_CITIES</td>\n",
       "      <td>THE SLAYING AND AVENGING OF PATROCLUS</td>\n",
       "      <td>At this moment, when torches were blazing roun...</td>\n",
       "    </tr>\n",
       "    <tr>\n",
       "      <th>7</th>\n",
       "      <td>ULYSSES_THE_SACKER_OF_CITIES</td>\n",
       "      <td>THE CRUELTY OF ACHILLES, AND THE RANSOMING OF\\...</td>\n",
       "      <td>When Achilles was asleep that night the ghost ...</td>\n",
       "    </tr>\n",
       "    <tr>\n",
       "      <th>8</th>\n",
       "      <td>ULYSSES_THE_SACKER_OF_CITIES</td>\n",
       "      <td>HOW ULYSSES STOLE THE LUCK OF TROY</td>\n",
       "      <td>After Hector was buried, the siege went on slo...</td>\n",
       "    </tr>\n",
       "    <tr>\n",
       "      <th>9</th>\n",
       "      <td>ULYSSES_THE_SACKER_OF_CITIES</td>\n",
       "      <td>THE BATTLES WITH THE AMAZONS AND MEMNON—THE\\nD...</td>\n",
       "      <td>The Amazons were a race of warlike maids, who ...</td>\n",
       "    </tr>\n",
       "    <tr>\n",
       "      <th>10</th>\n",
       "      <td>ULYSSES_THE_SACKER_OF_CITIES</td>\n",
       "      <td>ULYSSES SAILS TO SEEK THE SON OF ACHILLES.—THE...</td>\n",
       "      <td>When the Greeks found Aias lying dead, slain b...</td>\n",
       "    </tr>\n",
       "    <tr>\n",
       "      <th>11</th>\n",
       "      <td>ULYSSES_THE_SACKER_OF_CITIES</td>\n",
       "      <td>THE SLAYING OF PARIS</td>\n",
       "      <td>When the Greeks were disheartened, as they oft...</td>\n",
       "    </tr>\n",
       "    <tr>\n",
       "      <th>12</th>\n",
       "      <td>ULYSSES_THE_SACKER_OF_CITIES</td>\n",
       "      <td>HOW ULYSSES INVENTED THE DEVICE OF THE\\nHORSE ...</td>\n",
       "      <td>After Paris died, Helen was not given back to ...</td>\n",
       "    </tr>\n",
       "    <tr>\n",
       "      <th>13</th>\n",
       "      <td>ULYSSES_THE_SACKER_OF_CITIES</td>\n",
       "      <td>THE END OF TROY AND THE SAVING OF HELEN</td>\n",
       "      <td>From the walls the Trojans saw the black smoke...</td>\n",
       "    </tr>\n",
       "    <tr>\n",
       "      <th>14</th>\n",
       "      <td>THE_WANDERINGS_OF_ULYSSES</td>\n",
       "      <td>THE SLAYING OF AGAMEMNON AND THE SORROWS OF\\nU...</td>\n",
       "      <td>The Greeks left Troy a mass of smouldering ash...</td>\n",
       "    </tr>\n",
       "    <tr>\n",
       "      <th>15</th>\n",
       "      <td>THE_WANDERINGS_OF_ULYSSES</td>\n",
       "      <td>THE ENCHANTRESS CIRCE, THE LAND OF THE DEAD,\\n...</td>\n",
       "      <td>When Ulysses heard that he slung his sword-bel...</td>\n",
       "    </tr>\n",
       "    <tr>\n",
       "      <th>16</th>\n",
       "      <td>THE_WANDERINGS_OF_ULYSSES</td>\n",
       "      <td>THE WHIRLPOOL, THE SEA MONSTER, AND THE CATTLE...</td>\n",
       "      <td>They had not sailed far when they heard the se...</td>\n",
       "    </tr>\n",
       "    <tr>\n",
       "      <th>17</th>\n",
       "      <td>THE_WANDERINGS_OF_ULYSSES</td>\n",
       "      <td>HOW TELEMACHUS WENT TO SEEK HIS FATHER</td>\n",
       "      <td>Penelope at last promised that she would choos...</td>\n",
       "    </tr>\n",
       "    <tr>\n",
       "      <th>18</th>\n",
       "      <td>THE_WANDERINGS_OF_ULYSSES</td>\n",
       "      <td>HOW ULYSSES ESCAPED FROM THE ISLAND OF CALYPSO</td>\n",
       "      <td>There the messenger, the slayer of Argos, stoo...</td>\n",
       "    </tr>\n",
       "    <tr>\n",
       "      <th>19</th>\n",
       "      <td>THE_WANDERINGS_OF_ULYSSES</td>\n",
       "      <td>HOW ULYSSES WAS WRECKED, YET REACHED PHAEACIA</td>\n",
       "      <td>As long as the fair wind blew Ulysses sat and ...</td>\n",
       "    </tr>\n",
       "    <tr>\n",
       "      <th>20</th>\n",
       "      <td>THE_WANDERINGS_OF_ULYSSES</td>\n",
       "      <td>HOW ULYSSES CAME TO HIS OWN COUNTRY, AND FOR S...</td>\n",
       "      <td>When Ulysses awoke, he found himself alone, wr...</td>\n",
       "    </tr>\n",
       "    <tr>\n",
       "      <th>21</th>\n",
       "      <td>THE_WANDERINGS_OF_ULYSSES</td>\n",
       "      <td>ULYSSES COMES DISGUISED AS A BEGGAR\\nTO HIS OW...</td>\n",
       "      <td>Meanwhile Ulysses, in disguise, and the swineh...</td>\n",
       "    </tr>\n",
       "    <tr>\n",
       "      <th>22</th>\n",
       "      <td>THE_WANDERINGS_OF_ULYSSES</td>\n",
       "      <td>THE SLAYING OF THE WOOERS</td>\n",
       "      <td>'Thou shalt die, and vultures shall devour the...</td>\n",
       "    </tr>\n",
       "    <tr>\n",
       "      <th>23</th>\n",
       "      <td>THE_WANDERINGS_OF_ULYSSES</td>\n",
       "      <td>THE END</td>\n",
       "      <td>There the old man was, in his rough gardening ...</td>\n",
       "    </tr>\n",
       "    <tr>\n",
       "      <th>24</th>\n",
       "      <td>THE_FLEECE_OF_GOLD</td>\n",
       "      <td>THE CHILDREN OF THE CLOUD</td>\n",
       "      <td>While Troy still stood fast, and before King P...</td>\n",
       "    </tr>\n",
       "    <tr>\n",
       "      <th>25</th>\n",
       "      <td>THE_FLEECE_OF_GOLD</td>\n",
       "      <td>THE SEARCH FOR THE FLEECE</td>\n",
       "      <td>There was Orpheus who played the harp so sweet...</td>\n",
       "    </tr>\n",
       "    <tr>\n",
       "      <th>26</th>\n",
       "      <td>THE_FLEECE_OF_GOLD</td>\n",
       "      <td>THE WINNING OF THE FLEECE</td>\n",
       "      <td>At last Medea promised to carry to the temple ...</td>\n",
       "    </tr>\n",
       "    <tr>\n",
       "      <th>27</th>\n",
       "      <td>THESEUS</td>\n",
       "      <td>THE WEDDING OF ÆTHRA</td>\n",
       "      <td>Long before Ulysses was born, there lived in A...</td>\n",
       "    </tr>\n",
       "    <tr>\n",
       "      <th>28</th>\n",
       "      <td>THESEUS</td>\n",
       "      <td>THE BOYHOOD OF THESEUS</td>\n",
       "      <td>Time went by, and Æthra had a baby, a son. Thi...</td>\n",
       "    </tr>\n",
       "    <tr>\n",
       "      <th>29</th>\n",
       "      <td>THESEUS</td>\n",
       "      <td>ADVENTURES OF THESEUS</td>\n",
       "      <td>Theseus walked through the night, and slept fo...</td>\n",
       "    </tr>\n",
       "    <tr>\n",
       "      <th>30</th>\n",
       "      <td>THESEUS</td>\n",
       "      <td>THESEUS FINDS HIS FATHER</td>\n",
       "      <td>'Come, speak with me apart,' the young man sai...</td>\n",
       "    </tr>\n",
       "    <tr>\n",
       "      <th>31</th>\n",
       "      <td>THESEUS</td>\n",
       "      <td>HERALDS COME FOR TRIBUTE</td>\n",
       "      <td>The days and weeks went by, and Theseus reigne...</td>\n",
       "    </tr>\n",
       "    <tr>\n",
       "      <th>32</th>\n",
       "      <td>THESEUS</td>\n",
       "      <td>THESEUS IN CRETE</td>\n",
       "      <td>The crowd in the street being great, the march...</td>\n",
       "    </tr>\n",
       "    <tr>\n",
       "      <th>33</th>\n",
       "      <td>THESEUS</td>\n",
       "      <td>THE SLAYING OF THE MINOTAUR</td>\n",
       "      <td>Theseus first fastened one end of his coil of ...</td>\n",
       "    </tr>\n",
       "    <tr>\n",
       "      <th>34</th>\n",
       "      <td>PERSEUS</td>\n",
       "      <td>THE PRISON OF DANAE</td>\n",
       "      <td>Many years before the Siege of Troy there live...</td>\n",
       "    </tr>\n",
       "    <tr>\n",
       "      <th>35</th>\n",
       "      <td>PERSEUS</td>\n",
       "      <td>THE VOW OF PERSEUS</td>\n",
       "      <td>This was one of the stories that Perseus heard...</td>\n",
       "    </tr>\n",
       "    <tr>\n",
       "      <th>36</th>\n",
       "      <td>PERSEUS</td>\n",
       "      <td>PERSEUS AND ANDROMEDA</td>\n",
       "      <td>At their head walked the king, who was like a ...</td>\n",
       "    </tr>\n",
       "    <tr>\n",
       "      <th>37</th>\n",
       "      <td>PERSEUS</td>\n",
       "      <td>HOW PERSEUS AVENGED DANAE</td>\n",
       "      <td>With a steady south wind behind them they sail...</td>\n",
       "    </tr>\n",
       "  </tbody>\n",
       "</table>\n",
       "</div>"
      ],
      "text/plain": [
       "                       epos_name  \\\n",
       "0   ULYSSES_THE_SACKER_OF_CITIES   \n",
       "1   ULYSSES_THE_SACKER_OF_CITIES   \n",
       "2   ULYSSES_THE_SACKER_OF_CITIES   \n",
       "3   ULYSSES_THE_SACKER_OF_CITIES   \n",
       "4   ULYSSES_THE_SACKER_OF_CITIES   \n",
       "5   ULYSSES_THE_SACKER_OF_CITIES   \n",
       "6   ULYSSES_THE_SACKER_OF_CITIES   \n",
       "7   ULYSSES_THE_SACKER_OF_CITIES   \n",
       "8   ULYSSES_THE_SACKER_OF_CITIES   \n",
       "9   ULYSSES_THE_SACKER_OF_CITIES   \n",
       "10  ULYSSES_THE_SACKER_OF_CITIES   \n",
       "11  ULYSSES_THE_SACKER_OF_CITIES   \n",
       "12  ULYSSES_THE_SACKER_OF_CITIES   \n",
       "13  ULYSSES_THE_SACKER_OF_CITIES   \n",
       "14     THE_WANDERINGS_OF_ULYSSES   \n",
       "15     THE_WANDERINGS_OF_ULYSSES   \n",
       "16     THE_WANDERINGS_OF_ULYSSES   \n",
       "17     THE_WANDERINGS_OF_ULYSSES   \n",
       "18     THE_WANDERINGS_OF_ULYSSES   \n",
       "19     THE_WANDERINGS_OF_ULYSSES   \n",
       "20     THE_WANDERINGS_OF_ULYSSES   \n",
       "21     THE_WANDERINGS_OF_ULYSSES   \n",
       "22     THE_WANDERINGS_OF_ULYSSES   \n",
       "23     THE_WANDERINGS_OF_ULYSSES   \n",
       "24            THE_FLEECE_OF_GOLD   \n",
       "25            THE_FLEECE_OF_GOLD   \n",
       "26            THE_FLEECE_OF_GOLD   \n",
       "27                       THESEUS   \n",
       "28                       THESEUS   \n",
       "29                       THESEUS   \n",
       "30                       THESEUS   \n",
       "31                       THESEUS   \n",
       "32                       THESEUS   \n",
       "33                       THESEUS   \n",
       "34                       PERSEUS   \n",
       "35                       PERSEUS   \n",
       "36                       PERSEUS   \n",
       "37                       PERSEUS   \n",
       "\n",
       "                                         chapter_name  \\\n",
       "0                  THE BOYHOOD AND PARENTS OF ULYSSES   \n",
       "1             HOW PEOPLE LIVED IN THE TIME OF ULYSSES   \n",
       "2               THE WOOING OF HELEN OF THE FAIR HANDS   \n",
       "3                               THE STEALING OF HELEN   \n",
       "4                                    TROJAN VICTORIES   \n",
       "5                                 BATTLE AT THE SHIPS   \n",
       "6               THE SLAYING AND AVENGING OF PATROCLUS   \n",
       "7   THE CRUELTY OF ACHILLES, AND THE RANSOMING OF\\...   \n",
       "8                  HOW ULYSSES STOLE THE LUCK OF TROY   \n",
       "9   THE BATTLES WITH THE AMAZONS AND MEMNON—THE\\nD...   \n",
       "10  ULYSSES SAILS TO SEEK THE SON OF ACHILLES.—THE...   \n",
       "11                               THE SLAYING OF PARIS   \n",
       "12  HOW ULYSSES INVENTED THE DEVICE OF THE\\nHORSE ...   \n",
       "13            THE END OF TROY AND THE SAVING OF HELEN   \n",
       "14  THE SLAYING OF AGAMEMNON AND THE SORROWS OF\\nU...   \n",
       "15  THE ENCHANTRESS CIRCE, THE LAND OF THE DEAD,\\n...   \n",
       "16  THE WHIRLPOOL, THE SEA MONSTER, AND THE CATTLE...   \n",
       "17             HOW TELEMACHUS WENT TO SEEK HIS FATHER   \n",
       "18     HOW ULYSSES ESCAPED FROM THE ISLAND OF CALYPSO   \n",
       "19      HOW ULYSSES WAS WRECKED, YET REACHED PHAEACIA   \n",
       "20  HOW ULYSSES CAME TO HIS OWN COUNTRY, AND FOR S...   \n",
       "21  ULYSSES COMES DISGUISED AS A BEGGAR\\nTO HIS OW...   \n",
       "22                          THE SLAYING OF THE WOOERS   \n",
       "23                                            THE END   \n",
       "24                          THE CHILDREN OF THE CLOUD   \n",
       "25                          THE SEARCH FOR THE FLEECE   \n",
       "26                          THE WINNING OF THE FLEECE   \n",
       "27                               THE WEDDING OF ÆTHRA   \n",
       "28                             THE BOYHOOD OF THESEUS   \n",
       "29                              ADVENTURES OF THESEUS   \n",
       "30                           THESEUS FINDS HIS FATHER   \n",
       "31                           HERALDS COME FOR TRIBUTE   \n",
       "32                                   THESEUS IN CRETE   \n",
       "33                        THE SLAYING OF THE MINOTAUR   \n",
       "34                                THE PRISON OF DANAE   \n",
       "35                                 THE VOW OF PERSEUS   \n",
       "36                              PERSEUS AND ANDROMEDA   \n",
       "37                          HOW PERSEUS AVENGED DANAE   \n",
       "\n",
       "                                                 body  \n",
       "0   Long ago, in a little island called Ithaca, on...  \n",
       "1   There were bath rooms with polished baths, whe...  \n",
       "2   Tyndarus first made all the princes take an oa...  \n",
       "3   This happy time did not last long, and Telemac...  \n",
       "4   Then Agamemnon hastened here and there, biddin...  \n",
       "5   The armies rushed on each other and hewed each...  \n",
       "6   At this moment, when torches were blazing roun...  \n",
       "7   When Achilles was asleep that night the ghost ...  \n",
       "8   After Hector was buried, the siege went on slo...  \n",
       "9   The Amazons were a race of warlike maids, who ...  \n",
       "10  When the Greeks found Aias lying dead, slain b...  \n",
       "11  When the Greeks were disheartened, as they oft...  \n",
       "12  After Paris died, Helen was not given back to ...  \n",
       "13  From the walls the Trojans saw the black smoke...  \n",
       "14  The Greeks left Troy a mass of smouldering ash...  \n",
       "15  When Ulysses heard that he slung his sword-bel...  \n",
       "16  They had not sailed far when they heard the se...  \n",
       "17  Penelope at last promised that she would choos...  \n",
       "18  There the messenger, the slayer of Argos, stoo...  \n",
       "19  As long as the fair wind blew Ulysses sat and ...  \n",
       "20  When Ulysses awoke, he found himself alone, wr...  \n",
       "21  Meanwhile Ulysses, in disguise, and the swineh...  \n",
       "22  'Thou shalt die, and vultures shall devour the...  \n",
       "23  There the old man was, in his rough gardening ...  \n",
       "24  While Troy still stood fast, and before King P...  \n",
       "25  There was Orpheus who played the harp so sweet...  \n",
       "26  At last Medea promised to carry to the temple ...  \n",
       "27  Long before Ulysses was born, there lived in A...  \n",
       "28  Time went by, and Æthra had a baby, a son. Thi...  \n",
       "29  Theseus walked through the night, and slept fo...  \n",
       "30  'Come, speak with me apart,' the young man sai...  \n",
       "31  The days and weeks went by, and Theseus reigne...  \n",
       "32  The crowd in the street being great, the march...  \n",
       "33  Theseus first fastened one end of his coil of ...  \n",
       "34  Many years before the Siege of Troy there live...  \n",
       "35  This was one of the stories that Perseus heard...  \n",
       "36  At their head walked the king, who was like a ...  \n",
       "37  With a steady south wind behind them they sail...  "
      ]
     },
     "execution_count": 12,
     "metadata": {},
     "output_type": "execute_result"
    }
   ],
   "source": [
    "body_northern = soup_greek.find(\"body\")\n",
    "story_started = False\n",
    "story_ended = False\n",
    "\n",
    "epos_name = \"\"\n",
    "chapter_name = \"\"\n",
    "chapter_body = []\n",
    "epos_count = 0\n",
    "chapter_count = 0\n",
    "\n",
    "def create_record(epos_name, chapter_name, chapter_body):\n",
    "    record = {}\n",
    "    record[\"epos_name\"] = epos_name\n",
    "    record[\"chapter_name\"] = chapter_name\n",
    "    record[\"body\"] = \"\\n\".join(chapter_body)\n",
    "    return record\n",
    "\n",
    "record_list = []\n",
    "for e in body_northern:\n",
    "    \n",
    "    # Detect story start\n",
    "    if e.name == \"h2\":\n",
    "        # print(e)\n",
    "        a1 = e.find(\"a\")\n",
    "        if a1 is not None:\n",
    "            if a1.get(\"id\") == \"ULYSSES_THE_SACKER_OF_CITIES\":\n",
    "                story_started = True\n",
    "    # Detect story end\n",
    "    elif e.name == \"p\":\n",
    "        a2 = e.find(\"a\")\n",
    "        if a2 is not None:\n",
    "            if a2.get(\"id\") == \"Page_288\":\n",
    "                story_ended = True\n",
    "        \n",
    "    \n",
    "    if story_started is False:\n",
    "        continue\n",
    "        \n",
    "    # Extract story\n",
    "    # Extract the name of epos\n",
    "    if e.name == \"h2\":\n",
    "        a = e.find(\"a\")\n",
    "        title = a.get(\"id\")\n",
    "        if re.match(r\"[IXVacb]+\", title) is None:\n",
    "            \n",
    "            if epos_count > 0:\n",
    "                record_list.append(create_record(epos_name, chapter_name, chapter_body))\n",
    "                chapter_body = []\n",
    "            \n",
    "            epos_name = title\n",
    "            chapter_count = 0\n",
    "            epos_count = epos_count + 1\n",
    "                \n",
    "\n",
    "    if e.name == \"p\":\n",
    "        class_list = e.get(\"class\")\n",
    "        if class_list is not None:\n",
    "            if \"center\" in class_list:\n",
    "                \n",
    "                if chapter_count > 0:\n",
    "                    record_list.append(create_record(epos_name, chapter_name, chapter_body))\n",
    "                    chapter_body = []\n",
    "                    \n",
    "                chapter_name = e.string\n",
    "                chapter_count = chapter_count + 1\n",
    "                \n",
    "        else:\n",
    "            if e.string is not None:\n",
    "                # remove page numbers\n",
    "                span = e.find(\"span\")\n",
    "                \n",
    "                if span is not None:\n",
    "                    span.decompose()\n",
    "                \n",
    "                chapter_body.append(e.string)\n",
    "        \n",
    "    \n",
    "    if story_ended:\n",
    "        record_list.append(create_record(epos_name, chapter_name, chapter_body))\n",
    "        chapter_body = []\n",
    "        break\n",
    "    \n",
    "df = pd.DataFrame(record_list) \n",
    "df"
   ]
  },
  {
   "cell_type": "markdown",
   "metadata": {},
   "source": [
    "Extract all body text for later use"
   ]
  },
  {
   "cell_type": "code",
   "execution_count": 13,
   "metadata": {},
   "outputs": [],
   "source": [
    "corpus = df[\"body\"].str.cat(sep=' ')"
   ]
  },
  {
   "cell_type": "code",
   "execution_count": 14,
   "metadata": {},
   "outputs": [],
   "source": [
    "text = df[df[\"chapter_name\"] == \"THE STEALING OF HELEN\"][\"body\"].iloc[0]"
   ]
  },
  {
   "cell_type": "code",
   "execution_count": 15,
   "metadata": {},
   "outputs": [
    {
     "name": "stdout",
     "output_type": "stream",
     "text": [
      "This happy time did not last long, and Telemachus was\n",
      "still a baby, when war arose, so great and mighty and\n",
      "marvellous as had never been known in the world. Far\n",
      "across the sea that lies on the east of Greece, there dwelt\n",
      "the rich King Priam. His town was called Troy, or Ilios, and\n",
      "it stood on a hill near the seashore, where are the straits of\n",
      "Hellespont, between Europe and Asia; it was a great city\n",
      "surrounded by strong walls, and its ruins are still standing.\n",
      "The kings could make merchants who passed through the\n",
      "straits pay toll to them, and they had allies in Thrace, a\n",
      "\n"
     ]
    }
   ],
   "source": [
    "match = re.match(r\"^([^\\n]*\\n){10}\", text)\n",
    "print(match.group(0))"
   ]
  },
  {
   "cell_type": "markdown",
   "metadata": {},
   "source": [
    "# Analyzis"
   ]
  },
  {
   "cell_type": "markdown",
   "metadata": {},
   "source": [
    "## Tokoenization"
   ]
  },
  {
   "cell_type": "code",
   "execution_count": 16,
   "metadata": {},
   "outputs": [
    {
     "data": {
      "text/plain": [
       "['Long', 'ago', 'in', 'a', 'little', 'island', 'called', 'Ithaca', 'on', 'the']"
      ]
     },
     "execution_count": 16,
     "metadata": {},
     "output_type": "execute_result"
    }
   ],
   "source": [
    "tokens_1 = re.findall(r\"[\\w]+\", corpus)\n",
    "tokens_2 = re.findall(r\"[a-zA-Z]+\", corpus)\n",
    "tokens_1[0:10]"
   ]
  },
  {
   "cell_type": "code",
   "execution_count": 17,
   "metadata": {},
   "outputs": [
    {
     "data": {
      "text/plain": [
       "(47584, 47614)"
      ]
     },
     "execution_count": 17,
     "metadata": {},
     "output_type": "execute_result"
    }
   ],
   "source": [
    "(len(tokens_1), len(tokens_2))"
   ]
  },
  {
   "cell_type": "code",
   "execution_count": 18,
   "metadata": {},
   "outputs": [],
   "source": [
    "tokens_2_lower = [t.lower() for t in tokens_2]"
   ]
  },
  {
   "cell_type": "code",
   "execution_count": 19,
   "metadata": {},
   "outputs": [
    {
     "data": {
      "text/html": [
       "<div>\n",
       "<style scoped>\n",
       "    .dataframe tbody tr th:only-of-type {\n",
       "        vertical-align: middle;\n",
       "    }\n",
       "\n",
       "    .dataframe tbody tr th {\n",
       "        vertical-align: top;\n",
       "    }\n",
       "\n",
       "    .dataframe thead th {\n",
       "        text-align: right;\n",
       "    }\n",
       "</style>\n",
       "<table border=\"1\" class=\"dataframe\">\n",
       "  <thead>\n",
       "    <tr style=\"text-align: right;\">\n",
       "      <th></th>\n",
       "      <th>token</th>\n",
       "    </tr>\n",
       "  </thead>\n",
       "  <tbody>\n",
       "    <tr>\n",
       "      <th>0</th>\n",
       "      <td>long</td>\n",
       "    </tr>\n",
       "    <tr>\n",
       "      <th>1</th>\n",
       "      <td>ago</td>\n",
       "    </tr>\n",
       "    <tr>\n",
       "      <th>2</th>\n",
       "      <td>in</td>\n",
       "    </tr>\n",
       "    <tr>\n",
       "      <th>3</th>\n",
       "      <td>a</td>\n",
       "    </tr>\n",
       "    <tr>\n",
       "      <th>4</th>\n",
       "      <td>little</td>\n",
       "    </tr>\n",
       "    <tr>\n",
       "      <th>...</th>\n",
       "      <td>...</td>\n",
       "    </tr>\n",
       "    <tr>\n",
       "      <th>47609</th>\n",
       "      <td>he</td>\n",
       "    </tr>\n",
       "    <tr>\n",
       "      <th>47610</th>\n",
       "      <td>had</td>\n",
       "    </tr>\n",
       "    <tr>\n",
       "      <th>47611</th>\n",
       "      <td>killed</td>\n",
       "    </tr>\n",
       "    <tr>\n",
       "      <th>47612</th>\n",
       "      <td>king</td>\n",
       "    </tr>\n",
       "    <tr>\n",
       "      <th>47613</th>\n",
       "      <td>acrisius</td>\n",
       "    </tr>\n",
       "  </tbody>\n",
       "</table>\n",
       "<p>47614 rows × 1 columns</p>\n",
       "</div>"
      ],
      "text/plain": [
       "          token\n",
       "0          long\n",
       "1           ago\n",
       "2            in\n",
       "3             a\n",
       "4        little\n",
       "...         ...\n",
       "47609        he\n",
       "47610       had\n",
       "47611    killed\n",
       "47612      king\n",
       "47613  acrisius\n",
       "\n",
       "[47614 rows x 1 columns]"
      ]
     },
     "execution_count": 19,
     "metadata": {},
     "output_type": "execute_result"
    }
   ],
   "source": [
    "tokens_df = pd.DataFrame(tokens_2_lower) \n",
    "tokens_df.columns = [\"token\"]\n",
    "tokens_df"
   ]
  },
  {
   "cell_type": "code",
   "execution_count": 20,
   "metadata": {},
   "outputs": [
    {
     "data": {
      "text/html": [
       "<div>\n",
       "<style scoped>\n",
       "    .dataframe tbody tr th:only-of-type {\n",
       "        vertical-align: middle;\n",
       "    }\n",
       "\n",
       "    .dataframe tbody tr th {\n",
       "        vertical-align: top;\n",
       "    }\n",
       "\n",
       "    .dataframe thead th {\n",
       "        text-align: right;\n",
       "    }\n",
       "</style>\n",
       "<table border=\"1\" class=\"dataframe\">\n",
       "  <thead>\n",
       "    <tr style=\"text-align: right;\">\n",
       "      <th></th>\n",
       "      <th>count</th>\n",
       "      <th>token</th>\n",
       "    </tr>\n",
       "  </thead>\n",
       "  <tbody>\n",
       "    <tr>\n",
       "      <th>0</th>\n",
       "      <td>3525</td>\n",
       "      <td>the</td>\n",
       "    </tr>\n",
       "    <tr>\n",
       "      <th>1</th>\n",
       "      <td>2769</td>\n",
       "      <td>and</td>\n",
       "    </tr>\n",
       "    <tr>\n",
       "      <th>2</th>\n",
       "      <td>1536</td>\n",
       "      <td>of</td>\n",
       "    </tr>\n",
       "    <tr>\n",
       "      <th>3</th>\n",
       "      <td>1182</td>\n",
       "      <td>to</td>\n",
       "    </tr>\n",
       "    <tr>\n",
       "      <th>4</th>\n",
       "      <td>1004</td>\n",
       "      <td>he</td>\n",
       "    </tr>\n",
       "    <tr>\n",
       "      <th>...</th>\n",
       "      <td>...</td>\n",
       "      <td>...</td>\n",
       "    </tr>\n",
       "    <tr>\n",
       "      <th>4076</th>\n",
       "      <td>1</td>\n",
       "      <td>bless</td>\n",
       "    </tr>\n",
       "    <tr>\n",
       "      <th>4077</th>\n",
       "      <td>1</td>\n",
       "      <td>spite</td>\n",
       "    </tr>\n",
       "    <tr>\n",
       "      <th>4078</th>\n",
       "      <td>1</td>\n",
       "      <td>instance</td>\n",
       "    </tr>\n",
       "    <tr>\n",
       "      <th>4079</th>\n",
       "      <td>1</td>\n",
       "      <td>hence</td>\n",
       "    </tr>\n",
       "    <tr>\n",
       "      <th>4080</th>\n",
       "      <td>1</td>\n",
       "      <td>clanked</td>\n",
       "    </tr>\n",
       "  </tbody>\n",
       "</table>\n",
       "<p>4081 rows × 2 columns</p>\n",
       "</div>"
      ],
      "text/plain": [
       "      count     token\n",
       "0      3525       the\n",
       "1      2769       and\n",
       "2      1536        of\n",
       "3      1182        to\n",
       "4      1004        he\n",
       "...     ...       ...\n",
       "4076      1     bless\n",
       "4077      1     spite\n",
       "4078      1  instance\n",
       "4079      1     hence\n",
       "4080      1   clanked\n",
       "\n",
       "[4081 rows x 2 columns]"
      ]
     },
     "execution_count": 20,
     "metadata": {},
     "output_type": "execute_result"
    }
   ],
   "source": [
    "vocab_df = pd.DataFrame() \n",
    "vocab_df[\"count\"] = tokens_df[\"token\"].value_counts()\n",
    "vocab_df[\"token\"] = vocab_df.index\n",
    "vocab_df.reset_index(level = 0, inplace = True)\n",
    "del(vocab_df[\"index\"])\n",
    "vocab_df"
   ]
  },
  {
   "cell_type": "code",
   "execution_count": 21,
   "metadata": {},
   "outputs": [],
   "source": [
    "vocab_df[\"len\"] = vocab_df[\"token\"].apply(lambda x: len(x))"
   ]
  },
  {
   "cell_type": "code",
   "execution_count": 22,
   "metadata": {},
   "outputs": [
    {
     "data": {
      "text/html": [
       "<div>\n",
       "<style scoped>\n",
       "    .dataframe tbody tr th:only-of-type {\n",
       "        vertical-align: middle;\n",
       "    }\n",
       "\n",
       "    .dataframe tbody tr th {\n",
       "        vertical-align: top;\n",
       "    }\n",
       "\n",
       "    .dataframe thead th {\n",
       "        text-align: right;\n",
       "    }\n",
       "</style>\n",
       "<table border=\"1\" class=\"dataframe\">\n",
       "  <thead>\n",
       "    <tr style=\"text-align: right;\">\n",
       "      <th></th>\n",
       "      <th>count</th>\n",
       "      <th>token</th>\n",
       "      <th>len</th>\n",
       "    </tr>\n",
       "  </thead>\n",
       "  <tbody>\n",
       "    <tr>\n",
       "      <th>4080</th>\n",
       "      <td>1</td>\n",
       "      <td>clanked</td>\n",
       "      <td>7</td>\n",
       "    </tr>\n",
       "    <tr>\n",
       "      <th>2938</th>\n",
       "      <td>1</td>\n",
       "      <td>lorded</td>\n",
       "      <td>6</td>\n",
       "    </tr>\n",
       "    <tr>\n",
       "      <th>2939</th>\n",
       "      <td>1</td>\n",
       "      <td>worse</td>\n",
       "      <td>5</td>\n",
       "    </tr>\n",
       "    <tr>\n",
       "      <th>2940</th>\n",
       "      <td>1</td>\n",
       "      <td>worthy</td>\n",
       "      <td>6</td>\n",
       "    </tr>\n",
       "    <tr>\n",
       "      <th>2941</th>\n",
       "      <td>1</td>\n",
       "      <td>behave</td>\n",
       "      <td>6</td>\n",
       "    </tr>\n",
       "    <tr>\n",
       "      <th>...</th>\n",
       "      <td>...</td>\n",
       "      <td>...</td>\n",
       "      <td>...</td>\n",
       "    </tr>\n",
       "    <tr>\n",
       "      <th>4</th>\n",
       "      <td>1004</td>\n",
       "      <td>he</td>\n",
       "      <td>2</td>\n",
       "    </tr>\n",
       "    <tr>\n",
       "      <th>3</th>\n",
       "      <td>1182</td>\n",
       "      <td>to</td>\n",
       "      <td>2</td>\n",
       "    </tr>\n",
       "    <tr>\n",
       "      <th>2</th>\n",
       "      <td>1536</td>\n",
       "      <td>of</td>\n",
       "      <td>2</td>\n",
       "    </tr>\n",
       "    <tr>\n",
       "      <th>1</th>\n",
       "      <td>2769</td>\n",
       "      <td>and</td>\n",
       "      <td>3</td>\n",
       "    </tr>\n",
       "    <tr>\n",
       "      <th>0</th>\n",
       "      <td>3525</td>\n",
       "      <td>the</td>\n",
       "      <td>3</td>\n",
       "    </tr>\n",
       "  </tbody>\n",
       "</table>\n",
       "<p>4081 rows × 3 columns</p>\n",
       "</div>"
      ],
      "text/plain": [
       "      count    token  len\n",
       "4080      1  clanked    7\n",
       "2938      1   lorded    6\n",
       "2939      1    worse    5\n",
       "2940      1   worthy    6\n",
       "2941      1   behave    6\n",
       "...     ...      ...  ...\n",
       "4      1004       he    2\n",
       "3      1182       to    2\n",
       "2      1536       of    2\n",
       "1      2769      and    3\n",
       "0      3525      the    3\n",
       "\n",
       "[4081 rows x 3 columns]"
      ]
     },
     "execution_count": 22,
     "metadata": {},
     "output_type": "execute_result"
    }
   ],
   "source": [
    "vocab_df.sort_values(by=\"count\")"
   ]
  },
  {
   "cell_type": "code",
   "execution_count": 23,
   "metadata": {},
   "outputs": [
    {
     "data": {
      "text/html": [
       "<div>\n",
       "<style scoped>\n",
       "    .dataframe tbody tr th:only-of-type {\n",
       "        vertical-align: middle;\n",
       "    }\n",
       "\n",
       "    .dataframe tbody tr th {\n",
       "        vertical-align: top;\n",
       "    }\n",
       "\n",
       "    .dataframe thead th {\n",
       "        text-align: right;\n",
       "    }\n",
       "</style>\n",
       "<table border=\"1\" class=\"dataframe\">\n",
       "  <thead>\n",
       "    <tr style=\"text-align: right;\">\n",
       "      <th></th>\n",
       "      <th>count</th>\n",
       "      <th>token</th>\n",
       "      <th>len</th>\n",
       "    </tr>\n",
       "  </thead>\n",
       "  <tbody>\n",
       "    <tr>\n",
       "      <th>280</th>\n",
       "      <td>24</td>\n",
       "      <td>n</td>\n",
       "      <td>1</td>\n",
       "    </tr>\n",
       "    <tr>\n",
       "      <th>32</th>\n",
       "      <td>209</td>\n",
       "      <td>i</td>\n",
       "      <td>1</td>\n",
       "    </tr>\n",
       "    <tr>\n",
       "      <th>1423</th>\n",
       "      <td>3</td>\n",
       "      <td>o</td>\n",
       "      <td>1</td>\n",
       "    </tr>\n",
       "    <tr>\n",
       "      <th>5</th>\n",
       "      <td>851</td>\n",
       "      <td>a</td>\n",
       "      <td>1</td>\n",
       "    </tr>\n",
       "    <tr>\n",
       "      <th>67</th>\n",
       "      <td>92</td>\n",
       "      <td>s</td>\n",
       "      <td>1</td>\n",
       "    </tr>\n",
       "    <tr>\n",
       "      <th>...</th>\n",
       "      <td>...</td>\n",
       "      <td>...</td>\n",
       "      <td>...</td>\n",
       "    </tr>\n",
       "    <tr>\n",
       "      <th>1577</th>\n",
       "      <td>3</td>\n",
       "      <td>breastplates</td>\n",
       "      <td>12</td>\n",
       "    </tr>\n",
       "    <tr>\n",
       "      <th>1853</th>\n",
       "      <td>2</td>\n",
       "      <td>clytaemnestra</td>\n",
       "      <td>13</td>\n",
       "    </tr>\n",
       "    <tr>\n",
       "      <th>2369</th>\n",
       "      <td>2</td>\n",
       "      <td>dishonourable</td>\n",
       "      <td>13</td>\n",
       "    </tr>\n",
       "    <tr>\n",
       "      <th>2635</th>\n",
       "      <td>1</td>\n",
       "      <td>forgetfulness</td>\n",
       "      <td>13</td>\n",
       "    </tr>\n",
       "    <tr>\n",
       "      <th>3721</th>\n",
       "      <td>1</td>\n",
       "      <td>discourteously</td>\n",
       "      <td>14</td>\n",
       "    </tr>\n",
       "  </tbody>\n",
       "</table>\n",
       "<p>4081 rows × 3 columns</p>\n",
       "</div>"
      ],
      "text/plain": [
       "      count           token  len\n",
       "280      24               n    1\n",
       "32      209               i    1\n",
       "1423      3               o    1\n",
       "5       851               a    1\n",
       "67       92               s    1\n",
       "...     ...             ...  ...\n",
       "1577      3    breastplates   12\n",
       "1853      2   clytaemnestra   13\n",
       "2369      2   dishonourable   13\n",
       "2635      1   forgetfulness   13\n",
       "3721      1  discourteously   14\n",
       "\n",
       "[4081 rows x 3 columns]"
      ]
     },
     "execution_count": 23,
     "metadata": {},
     "output_type": "execute_result"
    }
   ],
   "source": [
    "vocab_df.sort_values(by=\"len\")"
   ]
  },
  {
   "cell_type": "markdown",
   "metadata": {},
   "source": [
    "# N Gram for word completion"
   ]
  },
  {
   "cell_type": "code",
   "execution_count": 24,
   "metadata": {},
   "outputs": [],
   "source": [
    "G = ngram.NGram(tokens_2_lower)"
   ]
  },
  {
   "cell_type": "code",
   "execution_count": 25,
   "metadata": {},
   "outputs": [
    {
     "data": {
      "text/plain": [
       "[('heel', 0.5714285714285714),\n",
       " ('help', 0.375),\n",
       " ('held', 0.375),\n",
       " ('heal', 0.375),\n",
       " ('helm', 0.375),\n",
       " ('helen', 0.3333333333333333),\n",
       " ('helle', 0.3333333333333333),\n",
       " ('helped', 0.3),\n",
       " ('helmet', 0.3),\n",
       " ('he', 0.2857142857142857),\n",
       " ('helmets', 0.2727272727272727),\n",
       " ('helenus', 0.2727272727272727),\n",
       " ('helpers', 0.2727272727272727),\n",
       " ('her', 0.25),\n",
       " ('helmsman', 0.25),\n",
       " ('helpless', 0.25),\n",
       " ('hellward', 0.25),\n",
       " ('hear', 0.2222222222222222),\n",
       " ('hall', 0.2222222222222222),\n",
       " ('hill', 0.2222222222222222)]"
      ]
     },
     "execution_count": 25,
     "metadata": {},
     "output_type": "execute_result"
    }
   ],
   "source": [
    "similar_words = G.search(\"hel\")[0:20]\n",
    "similar_words"
   ]
  },
  {
   "cell_type": "code",
   "execution_count": 26,
   "metadata": {},
   "outputs": [
    {
     "name": "stdout",
     "output_type": "stream",
     "text": [
      "('help', 0.375)\n",
      "('held', 0.375)\n",
      "('helm', 0.375)\n",
      "('helen', 0.3333333333333333)\n",
      "('helle', 0.3333333333333333)\n",
      "('helped', 0.3)\n",
      "('helmet', 0.3)\n",
      "('helmets', 0.2727272727272727)\n",
      "('helenus', 0.2727272727272727)\n",
      "('helpers', 0.2727272727272727)\n",
      "('helmsman', 0.25)\n",
      "('helpless', 0.25)\n",
      "('hellward', 0.25)\n"
     ]
    }
   ],
   "source": [
    "prediction_canidates = filter(lambda x: x[0].startswith(\"hel\"), similar_words)\n",
    "for i, w in enumerate(prediction_canidates):\n",
    "    print(w)\n",
    "    if i > 30:\n",
    "        break"
   ]
  },
  {
   "cell_type": "markdown",
   "metadata": {},
   "source": [
    "# Sentence tokenization"
   ]
  },
  {
   "cell_type": "code",
   "execution_count": 27,
   "metadata": {},
   "outputs": [
    {
     "data": {
      "text/plain": [
       "('This happy time did not last long, and Telemachus was\\nstill a baby, when war arose, so great and mighty and\\nmarvellous as had never been known in the world.',\n",
       " ' But they knew not where he was, and the\\nGreeks claimed the victory, and thought that, as Paris had\\nthe worst of the fight, Helen would be restored to them,\\nand they would all sail home.')"
      ]
     },
     "execution_count": 27,
     "metadata": {},
     "output_type": "execute_result"
    }
   ],
   "source": [
    "sentences = re.findall(r\"[^?.!]{2,}[?.!]\", text)\n",
    "(sentences[0], sentences[-1])"
   ]
  },
  {
   "cell_type": "code",
   "execution_count": 28,
   "metadata": {},
   "outputs": [
    {
     "data": {
      "text/html": [
       "<div>\n",
       "<style scoped>\n",
       "    .dataframe tbody tr th:only-of-type {\n",
       "        vertical-align: middle;\n",
       "    }\n",
       "\n",
       "    .dataframe tbody tr th {\n",
       "        vertical-align: top;\n",
       "    }\n",
       "\n",
       "    .dataframe thead th {\n",
       "        text-align: right;\n",
       "    }\n",
       "</style>\n",
       "<table border=\"1\" class=\"dataframe\">\n",
       "  <thead>\n",
       "    <tr style=\"text-align: right;\">\n",
       "      <th></th>\n",
       "      <th>sentence</th>\n",
       "    </tr>\n",
       "  </thead>\n",
       "  <tbody>\n",
       "    <tr>\n",
       "      <th>0</th>\n",
       "      <td>This happy time did not last long, and Telemac...</td>\n",
       "    </tr>\n",
       "    <tr>\n",
       "      <th>1</th>\n",
       "      <td>Far\\nacross the sea that lies on the east of ...</td>\n",
       "    </tr>\n",
       "    <tr>\n",
       "      <th>2</th>\n",
       "      <td>His town was called Troy, or Ilios, and\\nit s...</td>\n",
       "    </tr>\n",
       "    <tr>\n",
       "      <th>3</th>\n",
       "      <td>\\nThe kings could make merchants who passed th...</td>\n",
       "    </tr>\n",
       "    <tr>\n",
       "      <th>4</th>\n",
       "      <td>Priam had many beautiful things; he\\nhad a vi...</td>\n",
       "    </tr>\n",
       "    <tr>\n",
       "      <th>...</th>\n",
       "      <td>...</td>\n",
       "    </tr>\n",
       "    <tr>\n",
       "      <th>71</th>\n",
       "      <td>It was just like the\\ntapestry at Bayeux on w...</td>\n",
       "    </tr>\n",
       "    <tr>\n",
       "      <th>72</th>\n",
       "      <td>Helen\\nwas very fond of embroidering, like po...</td>\n",
       "    </tr>\n",
       "    <tr>\n",
       "      <th>73</th>\n",
       "      <td>Probably\\nthe work kept both Helen and Mary f...</td>\n",
       "    </tr>\n",
       "    <tr>\n",
       "      <th>74</th>\n",
       "      <td>\\nMeanwhile Menelaus was seeking for Paris eve...</td>\n",
       "    </tr>\n",
       "    <tr>\n",
       "      <th>75</th>\n",
       "      <td>But they knew not where he was, and the\\nGree...</td>\n",
       "    </tr>\n",
       "  </tbody>\n",
       "</table>\n",
       "<p>76 rows × 1 columns</p>\n",
       "</div>"
      ],
      "text/plain": [
       "                                             sentence\n",
       "0   This happy time did not last long, and Telemac...\n",
       "1    Far\\nacross the sea that lies on the east of ...\n",
       "2    His town was called Troy, or Ilios, and\\nit s...\n",
       "3   \\nThe kings could make merchants who passed th...\n",
       "4    Priam had many beautiful things; he\\nhad a vi...\n",
       "..                                                ...\n",
       "71   It was just like the\\ntapestry at Bayeux on w...\n",
       "72   Helen\\nwas very fond of embroidering, like po...\n",
       "73   Probably\\nthe work kept both Helen and Mary f...\n",
       "74  \\nMeanwhile Menelaus was seeking for Paris eve...\n",
       "75   But they knew not where he was, and the\\nGree...\n",
       "\n",
       "[76 rows x 1 columns]"
      ]
     },
     "execution_count": 28,
     "metadata": {},
     "output_type": "execute_result"
    }
   ],
   "source": [
    "sent_df = pd.DataFrame(sentences) \n",
    "sent_df.columns = [\"sentence\"]\n",
    "sent_df"
   ]
  },
  {
   "cell_type": "markdown",
   "metadata": {},
   "source": [
    "# N gram next word prediction"
   ]
  },
  {
   "cell_type": "code",
   "execution_count": 29,
   "metadata": {},
   "outputs": [],
   "source": [
    "model = defaultdict(lambda: defaultdict(lambda: 0))"
   ]
  },
  {
   "cell_type": "code",
   "execution_count": 30,
   "metadata": {},
   "outputs": [
    {
     "name": "stdout",
     "output_type": "stream",
     "text": [
      "This happy time did not last long, and Telemachus was\n",
      "still a baby, when war arose, so great and mighty and\n",
      "marvellous as had never been known in the world.\n",
      "\n",
      "None None This\n",
      "None This happy\n",
      "This happy time\n",
      "happy time did\n",
      "time did not\n",
      "did not last\n",
      "not last long\n",
      "last long and\n",
      "long and Telemachus\n",
      "and Telemachus was\n",
      "Telemachus was still\n",
      "was still a\n",
      "still a baby\n",
      "a baby when\n",
      "baby when war\n",
      "when war arose\n",
      "war arose so\n",
      "arose so great\n",
      "so great and\n",
      "great and mighty\n",
      "and mighty and\n",
      "mighty and marvellous\n",
      "and marvellous as\n",
      "marvellous as had\n",
      "as had never\n",
      "had never been\n",
      "never been known\n",
      "been known in\n",
      "known in the\n",
      "in the world\n",
      "the world None\n",
      "world None None\n"
     ]
    }
   ],
   "source": [
    "tokens_1 = re.findall(r\"[\\w]+\", corpus)\n",
    "for i, sentence in enumerate(sentences):\n",
    "    if i < 1:\n",
    "        print(sentence, end=\"\\n\\n\")\n",
    "    for w1, w2, w3 in trigrams(re.findall(r\"[\\w]+\", sentence), pad_right=True, pad_left=True):\n",
    "        # print the trigram process for the first sentence\n",
    "        if i < 1:\n",
    "            print(w1, w2, w3)\n",
    "        model[(w1, w2)][w3] += 1"
   ]
  },
  {
   "cell_type": "code",
   "execution_count": 31,
   "metadata": {},
   "outputs": [
    {
     "data": {
      "text/html": [
       "<div>\n",
       "<style scoped>\n",
       "    .dataframe tbody tr th:only-of-type {\n",
       "        vertical-align: middle;\n",
       "    }\n",
       "\n",
       "    .dataframe tbody tr th {\n",
       "        vertical-align: top;\n",
       "    }\n",
       "\n",
       "    .dataframe thead th {\n",
       "        text-align: right;\n",
       "    }\n",
       "</style>\n",
       "<table border=\"1\" class=\"dataframe\">\n",
       "  <thead>\n",
       "    <tr style=\"text-align: right;\">\n",
       "      <th></th>\n",
       "      <th>first_word</th>\n",
       "      <th>second_word</th>\n",
       "      <th>third_word</th>\n",
       "      <th>count</th>\n",
       "    </tr>\n",
       "  </thead>\n",
       "  <tbody>\n",
       "    <tr>\n",
       "      <th>0</th>\n",
       "      <td>None</td>\n",
       "      <td>None</td>\n",
       "      <td>This</td>\n",
       "      <td>2</td>\n",
       "    </tr>\n",
       "    <tr>\n",
       "      <th>1</th>\n",
       "      <td>None</td>\n",
       "      <td>None</td>\n",
       "      <td>Far</td>\n",
       "      <td>1</td>\n",
       "    </tr>\n",
       "    <tr>\n",
       "      <th>2</th>\n",
       "      <td>None</td>\n",
       "      <td>None</td>\n",
       "      <td>His</td>\n",
       "      <td>2</td>\n",
       "    </tr>\n",
       "    <tr>\n",
       "      <th>3</th>\n",
       "      <td>None</td>\n",
       "      <td>None</td>\n",
       "      <td>The</td>\n",
       "      <td>10</td>\n",
       "    </tr>\n",
       "    <tr>\n",
       "      <th>4</th>\n",
       "      <td>None</td>\n",
       "      <td>None</td>\n",
       "      <td>Priam</td>\n",
       "      <td>1</td>\n",
       "    </tr>\n",
       "    <tr>\n",
       "      <th>...</th>\n",
       "      <td>...</td>\n",
       "      <td>...</td>\n",
       "      <td>...</td>\n",
       "      <td>...</td>\n",
       "    </tr>\n",
       "    <tr>\n",
       "      <th>2137</th>\n",
       "      <td>they</td>\n",
       "      <td>would</td>\n",
       "      <td>all</td>\n",
       "      <td>1</td>\n",
       "    </tr>\n",
       "    <tr>\n",
       "      <th>2138</th>\n",
       "      <td>would</td>\n",
       "      <td>all</td>\n",
       "      <td>sail</td>\n",
       "      <td>1</td>\n",
       "    </tr>\n",
       "    <tr>\n",
       "      <th>2139</th>\n",
       "      <td>all</td>\n",
       "      <td>sail</td>\n",
       "      <td>home</td>\n",
       "      <td>1</td>\n",
       "    </tr>\n",
       "    <tr>\n",
       "      <th>2140</th>\n",
       "      <td>sail</td>\n",
       "      <td>home</td>\n",
       "      <td>None</td>\n",
       "      <td>1</td>\n",
       "    </tr>\n",
       "    <tr>\n",
       "      <th>2141</th>\n",
       "      <td>home</td>\n",
       "      <td>None</td>\n",
       "      <td>None</td>\n",
       "      <td>1</td>\n",
       "    </tr>\n",
       "  </tbody>\n",
       "</table>\n",
       "<p>2142 rows × 4 columns</p>\n",
       "</div>"
      ],
      "text/plain": [
       "     first_word second_word third_word  count\n",
       "0          None        None       This      2\n",
       "1          None        None        Far      1\n",
       "2          None        None        His      2\n",
       "3          None        None        The     10\n",
       "4          None        None      Priam      1\n",
       "...         ...         ...        ...    ...\n",
       "2137       they       would        all      1\n",
       "2138      would         all       sail      1\n",
       "2139        all        sail       home      1\n",
       "2140       sail        home       None      1\n",
       "2141       home        None       None      1\n",
       "\n",
       "[2142 rows x 4 columns]"
      ]
     },
     "execution_count": 31,
     "metadata": {},
     "output_type": "execute_result"
    }
   ],
   "source": [
    "record_list_trigram = []\n",
    "\n",
    "for i, key_1 in enumerate(model):\n",
    "    bigram = key_1\n",
    "    next_words = model[bigram]\n",
    "    for key_2 in next_words:\n",
    "        third_word = key_2\n",
    "        count = next_words[third_word]\n",
    "        \n",
    "        records_trigram = {}\n",
    "        records_trigram[\"first_word\"] = bigram[0]\n",
    "        records_trigram[\"second_word\"] = bigram[1]\n",
    "        records_trigram[\"third_word\"] = third_word\n",
    "        records_trigram[\"count\"] = count\n",
    "        record_list_trigram.append(records_trigram)\n",
    "        \n",
    "        \n",
    "df_trigrams = pd.DataFrame(record_list_trigram) \n",
    "df_trigrams"
   ]
  },
  {
   "cell_type": "code",
   "execution_count": 32,
   "metadata": {},
   "outputs": [
    {
     "data": {
      "text/html": [
       "<div>\n",
       "<style scoped>\n",
       "    .dataframe tbody tr th:only-of-type {\n",
       "        vertical-align: middle;\n",
       "    }\n",
       "\n",
       "    .dataframe tbody tr th {\n",
       "        vertical-align: top;\n",
       "    }\n",
       "\n",
       "    .dataframe thead th {\n",
       "        text-align: right;\n",
       "    }\n",
       "</style>\n",
       "<table border=\"1\" class=\"dataframe\">\n",
       "  <thead>\n",
       "    <tr style=\"text-align: right;\">\n",
       "      <th></th>\n",
       "      <th>first_word</th>\n",
       "      <th>second_word</th>\n",
       "      <th>third_word</th>\n",
       "      <th>count</th>\n",
       "    </tr>\n",
       "  </thead>\n",
       "  <tbody>\n",
       "    <tr>\n",
       "      <th>271</th>\n",
       "      <td>he</td>\n",
       "      <td>had</td>\n",
       "      <td>a</td>\n",
       "      <td>2</td>\n",
       "    </tr>\n",
       "    <tr>\n",
       "      <th>272</th>\n",
       "      <td>he</td>\n",
       "      <td>had</td>\n",
       "      <td>the</td>\n",
       "      <td>1</td>\n",
       "    </tr>\n",
       "    <tr>\n",
       "      <th>273</th>\n",
       "      <td>he</td>\n",
       "      <td>had</td>\n",
       "      <td>to</td>\n",
       "      <td>1</td>\n",
       "    </tr>\n",
       "    <tr>\n",
       "      <th>274</th>\n",
       "      <td>he</td>\n",
       "      <td>had</td>\n",
       "      <td>not</td>\n",
       "      <td>1</td>\n",
       "    </tr>\n",
       "    <tr>\n",
       "      <th>275</th>\n",
       "      <td>he</td>\n",
       "      <td>had</td>\n",
       "      <td>taken</td>\n",
       "      <td>1</td>\n",
       "    </tr>\n",
       "    <tr>\n",
       "      <th>390</th>\n",
       "      <td>he</td>\n",
       "      <td>left</td>\n",
       "      <td>the</td>\n",
       "      <td>1</td>\n",
       "    </tr>\n",
       "    <tr>\n",
       "      <th>427</th>\n",
       "      <td>he</td>\n",
       "      <td>wore</td>\n",
       "      <td>a</td>\n",
       "      <td>1</td>\n",
       "    </tr>\n",
       "    <tr>\n",
       "      <th>443</th>\n",
       "      <td>he</td>\n",
       "      <td>was</td>\n",
       "      <td>taken</td>\n",
       "      <td>1</td>\n",
       "    </tr>\n",
       "    <tr>\n",
       "      <th>444</th>\n",
       "      <td>he</td>\n",
       "      <td>was</td>\n",
       "      <td>too</td>\n",
       "      <td>1</td>\n",
       "    </tr>\n",
       "    <tr>\n",
       "      <th>445</th>\n",
       "      <td>he</td>\n",
       "      <td>was</td>\n",
       "      <td>young</td>\n",
       "      <td>1</td>\n",
       "    </tr>\n",
       "    <tr>\n",
       "      <th>446</th>\n",
       "      <td>he</td>\n",
       "      <td>was</td>\n",
       "      <td>a</td>\n",
       "      <td>1</td>\n",
       "    </tr>\n",
       "    <tr>\n",
       "      <th>447</th>\n",
       "      <td>he</td>\n",
       "      <td>was</td>\n",
       "      <td>always</td>\n",
       "      <td>1</td>\n",
       "    </tr>\n",
       "    <tr>\n",
       "      <th>448</th>\n",
       "      <td>he</td>\n",
       "      <td>was</td>\n",
       "      <td>quite</td>\n",
       "      <td>1</td>\n",
       "    </tr>\n",
       "    <tr>\n",
       "      <th>449</th>\n",
       "      <td>he</td>\n",
       "      <td>was</td>\n",
       "      <td>struck</td>\n",
       "      <td>1</td>\n",
       "    </tr>\n",
       "    <tr>\n",
       "      <th>450</th>\n",
       "      <td>he</td>\n",
       "      <td>was</td>\n",
       "      <td>chief</td>\n",
       "      <td>1</td>\n",
       "    </tr>\n",
       "    <tr>\n",
       "      <th>451</th>\n",
       "      <td>he</td>\n",
       "      <td>was</td>\n",
       "      <td>very</td>\n",
       "      <td>1</td>\n",
       "    </tr>\n",
       "    <tr>\n",
       "      <th>452</th>\n",
       "      <td>he</td>\n",
       "      <td>was</td>\n",
       "      <td>and</td>\n",
       "      <td>1</td>\n",
       "    </tr>\n",
       "    <tr>\n",
       "      <th>493</th>\n",
       "      <td>he</td>\n",
       "      <td>would</td>\n",
       "      <td>be</td>\n",
       "      <td>1</td>\n",
       "    </tr>\n",
       "    <tr>\n",
       "      <th>541</th>\n",
       "      <td>he</td>\n",
       "      <td>meant</td>\n",
       "      <td>to</td>\n",
       "      <td>1</td>\n",
       "    </tr>\n",
       "    <tr>\n",
       "      <th>849</th>\n",
       "      <td>he</td>\n",
       "      <td>remained</td>\n",
       "      <td>brave</td>\n",
       "      <td>1</td>\n",
       "    </tr>\n",
       "    <tr>\n",
       "      <th>890</th>\n",
       "      <td>he</td>\n",
       "      <td>wished</td>\n",
       "      <td>the</td>\n",
       "      <td>1</td>\n",
       "    </tr>\n",
       "    <tr>\n",
       "      <th>1635</th>\n",
       "      <td>he</td>\n",
       "      <td>leaped</td>\n",
       "      <td>he</td>\n",
       "      <td>1</td>\n",
       "    </tr>\n",
       "    <tr>\n",
       "      <th>1677</th>\n",
       "      <td>he</td>\n",
       "      <td>invaded</td>\n",
       "      <td>England</td>\n",
       "      <td>1</td>\n",
       "    </tr>\n",
       "    <tr>\n",
       "      <th>1832</th>\n",
       "      <td>he</td>\n",
       "      <td>captured</td>\n",
       "      <td>a</td>\n",
       "      <td>1</td>\n",
       "    </tr>\n",
       "    <tr>\n",
       "      <th>1862</th>\n",
       "      <td>he</td>\n",
       "      <td>did</td>\n",
       "      <td>not</td>\n",
       "      <td>2</td>\n",
       "    </tr>\n",
       "    <tr>\n",
       "      <th>1955</th>\n",
       "      <td>he</td>\n",
       "      <td>wept</td>\n",
       "      <td>and</td>\n",
       "      <td>1</td>\n",
       "    </tr>\n",
       "    <tr>\n",
       "      <th>1988</th>\n",
       "      <td>he</td>\n",
       "      <td>told</td>\n",
       "      <td>her</td>\n",
       "      <td>1</td>\n",
       "    </tr>\n",
       "  </tbody>\n",
       "</table>\n",
       "</div>"
      ],
      "text/plain": [
       "     first_word second_word third_word  count\n",
       "271          he         had          a      2\n",
       "272          he         had        the      1\n",
       "273          he         had         to      1\n",
       "274          he         had        not      1\n",
       "275          he         had      taken      1\n",
       "390          he        left        the      1\n",
       "427          he        wore          a      1\n",
       "443          he         was      taken      1\n",
       "444          he         was        too      1\n",
       "445          he         was      young      1\n",
       "446          he         was          a      1\n",
       "447          he         was     always      1\n",
       "448          he         was      quite      1\n",
       "449          he         was     struck      1\n",
       "450          he         was      chief      1\n",
       "451          he         was       very      1\n",
       "452          he         was        and      1\n",
       "493          he       would         be      1\n",
       "541          he       meant         to      1\n",
       "849          he    remained      brave      1\n",
       "890          he      wished        the      1\n",
       "1635         he      leaped         he      1\n",
       "1677         he     invaded    England      1\n",
       "1832         he    captured          a      1\n",
       "1862         he         did        not      2\n",
       "1955         he        wept        and      1\n",
       "1988         he        told        her      1"
      ]
     },
     "execution_count": 32,
     "metadata": {},
     "output_type": "execute_result"
    }
   ],
   "source": [
    "df_trigrams[df_trigrams[\"first_word\"] == \"he\"]"
   ]
  },
  {
   "cell_type": "code",
   "execution_count": 33,
   "metadata": {},
   "outputs": [],
   "source": [
    "for w1_w2 in model:\n",
    "    total_count = float(sum(model[w1_w2].values()))\n",
    "    for w3 in model[w1_w2]:\n",
    "        model[w1_w2][w3] /= total_count"
   ]
  },
  {
   "cell_type": "code",
   "execution_count": 34,
   "metadata": {},
   "outputs": [
    {
     "data": {
      "text/plain": [
       "defaultdict(<function __main__.<lambda>.<locals>.<lambda>()>,\n",
       "            {'a': 0.3333333333333333,\n",
       "             'the': 0.16666666666666666,\n",
       "             'to': 0.16666666666666666,\n",
       "             'not': 0.16666666666666666,\n",
       "             'taken': 0.16666666666666666})"
      ]
     },
     "execution_count": 34,
     "metadata": {},
     "output_type": "execute_result"
    }
   ],
   "source": [
    "model[\"he\", \"had\"]"
   ]
  },
  {
   "cell_type": "markdown",
   "metadata": {},
   "source": [
    "## Spacy"
   ]
  },
  {
   "cell_type": "code",
   "execution_count": 35,
   "metadata": {},
   "outputs": [
    {
     "ename": "OSError",
     "evalue": "[E050] Can't find model 'en_core_web_lg'. It doesn't seem to be a shortcut link, a Python package or a valid path to a data directory.",
     "output_type": "error",
     "traceback": [
      "\u001b[0;31m---------------------------------------------------------------------------\u001b[0m",
      "\u001b[0;31mOSError\u001b[0m                                   Traceback (most recent call last)",
      "\u001b[0;32m<ipython-input-35-0d7f6e4ca8cf>\u001b[0m in \u001b[0;36m<module>\u001b[0;34m\u001b[0m\n\u001b[0;32m----> 1\u001b[0;31m \u001b[0mnlp_model\u001b[0m \u001b[0;34m=\u001b[0m  \u001b[0mspacy\u001b[0m\u001b[0;34m.\u001b[0m\u001b[0mload\u001b[0m\u001b[0;34m(\u001b[0m\u001b[0;34m\"en_core_web_lg\"\u001b[0m\u001b[0;34m)\u001b[0m\u001b[0;34m\u001b[0m\u001b[0;34m\u001b[0m\u001b[0m\n\u001b[0m",
      "\u001b[0;32m~/miniconda3/envs/computational_linguistics/lib/python3.8/site-packages/spacy/__init__.py\u001b[0m in \u001b[0;36mload\u001b[0;34m(name, **overrides)\u001b[0m\n\u001b[1;32m     28\u001b[0m     \u001b[0;32mif\u001b[0m \u001b[0mdepr_path\u001b[0m \u001b[0;32mnot\u001b[0m \u001b[0;32min\u001b[0m \u001b[0;34m(\u001b[0m\u001b[0;32mTrue\u001b[0m\u001b[0;34m,\u001b[0m \u001b[0;32mFalse\u001b[0m\u001b[0;34m,\u001b[0m \u001b[0;32mNone\u001b[0m\u001b[0;34m)\u001b[0m\u001b[0;34m:\u001b[0m\u001b[0;34m\u001b[0m\u001b[0;34m\u001b[0m\u001b[0m\n\u001b[1;32m     29\u001b[0m         \u001b[0mdeprecation_warning\u001b[0m\u001b[0;34m(\u001b[0m\u001b[0mWarnings\u001b[0m\u001b[0;34m.\u001b[0m\u001b[0mW001\u001b[0m\u001b[0;34m.\u001b[0m\u001b[0mformat\u001b[0m\u001b[0;34m(\u001b[0m\u001b[0mpath\u001b[0m\u001b[0;34m=\u001b[0m\u001b[0mdepr_path\u001b[0m\u001b[0;34m)\u001b[0m\u001b[0;34m)\u001b[0m\u001b[0;34m\u001b[0m\u001b[0;34m\u001b[0m\u001b[0m\n\u001b[0;32m---> 30\u001b[0;31m     \u001b[0;32mreturn\u001b[0m \u001b[0mutil\u001b[0m\u001b[0;34m.\u001b[0m\u001b[0mload_model\u001b[0m\u001b[0;34m(\u001b[0m\u001b[0mname\u001b[0m\u001b[0;34m,\u001b[0m \u001b[0;34m**\u001b[0m\u001b[0moverrides\u001b[0m\u001b[0;34m)\u001b[0m\u001b[0;34m\u001b[0m\u001b[0;34m\u001b[0m\u001b[0m\n\u001b[0m\u001b[1;32m     31\u001b[0m \u001b[0;34m\u001b[0m\u001b[0m\n\u001b[1;32m     32\u001b[0m \u001b[0;34m\u001b[0m\u001b[0m\n",
      "\u001b[0;32m~/miniconda3/envs/computational_linguistics/lib/python3.8/site-packages/spacy/util.py\u001b[0m in \u001b[0;36mload_model\u001b[0;34m(name, **overrides)\u001b[0m\n\u001b[1;32m    167\u001b[0m     \u001b[0;32melif\u001b[0m \u001b[0mhasattr\u001b[0m\u001b[0;34m(\u001b[0m\u001b[0mname\u001b[0m\u001b[0;34m,\u001b[0m \u001b[0;34m\"exists\"\u001b[0m\u001b[0;34m)\u001b[0m\u001b[0;34m:\u001b[0m  \u001b[0;31m# Path or Path-like to model data\u001b[0m\u001b[0;34m\u001b[0m\u001b[0;34m\u001b[0m\u001b[0m\n\u001b[1;32m    168\u001b[0m         \u001b[0;32mreturn\u001b[0m \u001b[0mload_model_from_path\u001b[0m\u001b[0;34m(\u001b[0m\u001b[0mname\u001b[0m\u001b[0;34m,\u001b[0m \u001b[0;34m**\u001b[0m\u001b[0moverrides\u001b[0m\u001b[0;34m)\u001b[0m\u001b[0;34m\u001b[0m\u001b[0;34m\u001b[0m\u001b[0m\n\u001b[0;32m--> 169\u001b[0;31m     \u001b[0;32mraise\u001b[0m \u001b[0mIOError\u001b[0m\u001b[0;34m(\u001b[0m\u001b[0mErrors\u001b[0m\u001b[0;34m.\u001b[0m\u001b[0mE050\u001b[0m\u001b[0;34m.\u001b[0m\u001b[0mformat\u001b[0m\u001b[0;34m(\u001b[0m\u001b[0mname\u001b[0m\u001b[0;34m=\u001b[0m\u001b[0mname\u001b[0m\u001b[0;34m)\u001b[0m\u001b[0;34m)\u001b[0m\u001b[0;34m\u001b[0m\u001b[0;34m\u001b[0m\u001b[0m\n\u001b[0m\u001b[1;32m    170\u001b[0m \u001b[0;34m\u001b[0m\u001b[0m\n\u001b[1;32m    171\u001b[0m \u001b[0;34m\u001b[0m\u001b[0m\n",
      "\u001b[0;31mOSError\u001b[0m: [E050] Can't find model 'en_core_web_lg'. It doesn't seem to be a shortcut link, a Python package or a valid path to a data directory."
     ]
    }
   ],
   "source": [
    "nlp_model =  spacy.load(\"en_core_web_lg\")"
   ]
  },
  {
   "cell_type": "code",
   "execution_count": null,
   "metadata": {},
   "outputs": [],
   "source": [
    "nlp_doc = nlp_model(corpus)"
   ]
  },
  {
   "cell_type": "markdown",
   "metadata": {},
   "source": [
    "### Spacy document structure"
   ]
  },
  {
   "cell_type": "code",
   "execution_count": null,
   "metadata": {},
   "outputs": [],
   "source": [
    "print(\"SENTENCE:\\n\")\n",
    "for s in nlp_doc.sents:\n",
    "    print(s)\n",
    "    print(\"\\nTOKENS:\\n\")\n",
    "    for token in s:\n",
    "        print(token)\n",
    "    break"
   ]
  },
  {
   "cell_type": "code",
   "execution_count": null,
   "metadata": {},
   "outputs": [],
   "source": [
    "ind_1 = 0\n",
    "ind_10 = 0\n",
    "for i, s in enumerate(nlp_doc.sents):\n",
    "    if i == 1:\n",
    "        ind_1 = s.end\n",
    "    elif i > 10:\n",
    "        ind_10 = s.end\n",
    "        break\n",
    "(ind_1, ind_10)"
   ]
  },
  {
   "cell_type": "code",
   "execution_count": null,
   "metadata": {},
   "outputs": [],
   "source": [
    "first_sent = nlp_doc[0:ind_1]\n",
    "head_sent = nlp_doc[0:ind_10]\n",
    "\n",
    "first_sent"
   ]
  },
  {
   "cell_type": "markdown",
   "metadata": {},
   "source": [
    "### Sentence level syntactical dependecy parsing"
   ]
  },
  {
   "cell_type": "code",
   "execution_count": null,
   "metadata": {},
   "outputs": [],
   "source": [
    "displacy_image = displacy.render(first_sent, jupyter = True, style = \"dep\")"
   ]
  },
  {
   "cell_type": "markdown",
   "metadata": {},
   "source": [
    "### Named Entitiy Recognition (NER)"
   ]
  },
  {
   "cell_type": "markdown",
   "metadata": {},
   "source": [
    "Entity labels:\n",
    "    \n",
    "- **GPE**: Geopolitical enitity\n",
    "- **LOC**: Non-GPE entity\n",
    "- **ORG**: Organization"
   ]
  },
  {
   "cell_type": "code",
   "execution_count": null,
   "metadata": {},
   "outputs": [],
   "source": [
    "displacy_image = displacy.render(head_sent, jupyter = True, style = \"ent\")"
   ]
  },
  {
   "cell_type": "markdown",
   "metadata": {},
   "source": [
    "### Similarity search"
   ]
  },
  {
   "cell_type": "code",
   "execution_count": null,
   "metadata": {},
   "outputs": [],
   "source": [
    "record_list_spacy = []\n",
    "\n",
    "for i, s in enumerate(nlp_doc.sents):\n",
    "    for token in s:\n",
    "        if token.has_vector:\n",
    "            record_spacy = {}\n",
    "            record_spacy[\"sentence\"] = i\n",
    "            record_spacy[\"token\"] = token\n",
    "            record_spacy[\"token_text\"] = token.text\n",
    "            \n",
    "            record_list_spacy.append(record_spacy)\n",
    "        \n",
    "df_spacy = pd.DataFrame(record_list_spacy)\n",
    "df_spacy"
   ]
  },
  {
   "cell_type": "code",
   "execution_count": null,
   "metadata": {},
   "outputs": [],
   "source": [
    "zeus_tokens = df_spacy[df_spacy[\"token\"].apply(lambda t: t.text == \"Zeus\")]\n",
    "zeus_tokens"
   ]
  },
  {
   "cell_type": "code",
   "execution_count": null,
   "metadata": {},
   "outputs": [],
   "source": [
    "token_zeus = zeus_tokens.iloc[1][\"token\"]\n",
    "(token_zeus, type(token_zeus))"
   ]
  },
  {
   "cell_type": "code",
   "execution_count": null,
   "metadata": {},
   "outputs": [],
   "source": [
    "df_tokens = df_spacy.drop_duplicates(\"token_text\")\n",
    "df_tokens.set_index(\"token_text\", inplace = True)\n",
    "df_tokens"
   ]
  },
  {
   "cell_type": "code",
   "execution_count": null,
   "metadata": {},
   "outputs": [],
   "source": [
    "df_tokens[\"token\"][\"Zeus\"]"
   ]
  },
  {
   "cell_type": "code",
   "execution_count": null,
   "metadata": {},
   "outputs": [],
   "source": [
    "token_zeus.similarity(token_zeus)"
   ]
  },
  {
   "cell_type": "code",
   "execution_count": null,
   "metadata": {},
   "outputs": [],
   "source": [
    "df_tokens[\"similarity_zeus\"] = df_tokens[\"token\"].apply(lambda t: t.similarity(token_zeus))\n",
    "df_tokens"
   ]
  },
  {
   "cell_type": "code",
   "execution_count": null,
   "metadata": {},
   "outputs": [],
   "source": [
    "pd.set_option('display.max_rows', None)\n",
    "df_tokens\\\n",
    "    .sort_values(by = \"similarity_zeus\", ascending = False) \\\n",
    "    .tail(10)"
   ]
  },
  {
   "cell_type": "code",
   "execution_count": null,
   "metadata": {},
   "outputs": [],
   "source": [
    "pd.set_option('display.max_rows', None)\n",
    "df_tokens\\\n",
    "    .sort_values(by = \"similarity_zeus\", ascending = False) \\\n",
    "    .head(20)"
   ]
  },
  {
   "cell_type": "code",
   "execution_count": null,
   "metadata": {},
   "outputs": [],
   "source": [
    "pd.set_option('display.max_rows', 10)"
   ]
  },
  {
   "cell_type": "markdown",
   "metadata": {},
   "source": [
    "Gold standard for gods, godesses and titans"
   ]
  },
  {
   "cell_type": "code",
   "execution_count": null,
   "metadata": {},
   "outputs": [],
   "source": [
    "df_gold_standard = pd.DataFrame([\"Zeus\", \"Hera\", \"Poseidon\", \"Hades\", \"Aphrodite\", \"Demeter\", \"Dionysus\", \"Arthemis\", \"Prometheus\", \"Apollo\", \"Persephone\"])\n",
    "df_gold_standard.columns = [\"token_text\"]\n",
    "df_decoy = pd.DataFrame([\"Greek\", \"Cyclops\", \"Perseus\", \"Gods\", \"gods\", \"Medusa\", \"Orion\", \"godesses\", \"Godesses\"])\n",
    "df_decoy.columns = [\"token_text\"]\n",
    "\n",
    "df_decoy"
   ]
  },
  {
   "cell_type": "code",
   "execution_count": null,
   "metadata": {},
   "outputs": [],
   "source": [
    "df_tokens[\"gold_standard\"] = df_tokens.index.isin(df_gold_standard[\"token_text\"]).astype(int)\n",
    "df_tokens[\"decoy\"] = df_tokens.index.isin(df_decoy[\"token_text\"]).astype(int)\n",
    "df_tokens "
   ]
  },
  {
   "cell_type": "code",
   "execution_count": null,
   "metadata": {},
   "outputs": [],
   "source": [
    "df_tokens.loc[\"Hera\", :]"
   ]
  },
  {
   "cell_type": "code",
   "execution_count": null,
   "metadata": {},
   "outputs": [],
   "source": [
    "df_tokens.loc[\"Greek\", :]"
   ]
  },
  {
   "cell_type": "code",
   "execution_count": null,
   "metadata": {},
   "outputs": [],
   "source": [
    "gold_standard_arr = df_tokens[\n",
    "    df_tokens[\"gold_standard\"] == 1\n",
    "][\"token\"]\\\n",
    "    .apply(lambda t: t.vector) \\\n",
    "    .to_numpy()\n",
    "gold_standard_arr = np.concatenate(gold_standard_arr)\n",
    "\n",
    "decoy_arr = df_tokens[\n",
    "    df_tokens[\"decoy\"] == 1\n",
    "][\"token\"]\\\n",
    "    .apply(lambda t: t.vector) \\\n",
    "    .to_numpy()\n",
    "decoy_arr = np.concatenate(decoy_arr)\n",
    "\n",
    "(gold_standard_arr.shape, decoy_arr.shape)"
   ]
  },
  {
   "cell_type": "code",
   "execution_count": null,
   "metadata": {},
   "outputs": [],
   "source": [
    "gold_standard_arr = gold_standard_arr.reshape((300, -1))\n",
    "gold_standard_arr.shape"
   ]
  },
  {
   "cell_type": "code",
   "execution_count": null,
   "metadata": {},
   "outputs": [],
   "source": [
    "decoy_arr = decoy_arr.reshape((300, -1))\n",
    "decoy_arr.shape"
   ]
  },
  {
   "cell_type": "code",
   "execution_count": null,
   "metadata": {},
   "outputs": [],
   "source": [
    "gold_standard_mean_arr =  np.mean(gold_standard_arr, axis = 1)\n",
    "decoy_mean_arr =  np.mean(decoy_arr, axis = 1)"
   ]
  }
 ],
 "metadata": {
  "kernelspec": {
   "display_name": "Python 3",
   "language": "python",
   "name": "python3"
  },
  "language_info": {
   "codemirror_mode": {
    "name": "ipython",
    "version": 3
   },
   "file_extension": ".py",
   "mimetype": "text/x-python",
   "name": "python",
   "nbconvert_exporter": "python",
   "pygments_lexer": "ipython3",
   "version": "3.8.5"
  }
 },
 "nbformat": 4,
 "nbformat_minor": 4
}

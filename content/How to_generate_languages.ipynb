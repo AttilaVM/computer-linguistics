{
 "cells": [
  {
   "cell_type": "markdown",
   "metadata": {},
   "source": [
    "# Setup"
   ]
  },
  {
   "cell_type": "markdown",
   "metadata": {},
   "source": [
    "Regural Expression module"
   ]
  },
  {
   "cell_type": "code",
   "execution_count": 1,
   "metadata": {},
   "outputs": [],
   "source": [
    "import re"
   ]
  },
  {
   "cell_type": "markdown",
   "metadata": {},
   "source": [
    "Pseudo random generator module"
   ]
  },
  {
   "cell_type": "code",
   "execution_count": 2,
   "metadata": {},
   "outputs": [],
   "source": [
    "import random"
   ]
  },
  {
   "cell_type": "markdown",
   "metadata": {},
   "source": [
    "State machine module"
   ]
  },
  {
   "cell_type": "code",
   "execution_count": 3,
   "metadata": {},
   "outputs": [],
   "source": [
    "from pysm import State, StateMachine, Event"
   ]
  },
  {
   "cell_type": "markdown",
   "metadata": {},
   "source": [
    "Natural language module to generate languages with context free grammar"
   ]
  },
  {
   "cell_type": "code",
   "execution_count": 4,
   "metadata": {},
   "outputs": [],
   "source": [
    "from nltk.parse.generate import generate\n",
    "from nltk import CFG"
   ]
  },
  {
   "cell_type": "markdown",
   "metadata": {},
   "source": [
    "numerical computation module"
   ]
  },
  {
   "cell_type": "code",
   "execution_count": 5,
   "metadata": {},
   "outputs": [],
   "source": [
    "import numpy as np"
   ]
  },
  {
   "cell_type": "markdown",
   "metadata": {},
   "source": [
    "# Machines, grammar and language"
   ]
  },
  {
   "cell_type": "code",
   "execution_count": 6,
   "metadata": {},
   "outputs": [],
   "source": [
    "def machine_frame(sm, bit_str):\n",
    "    sm.initialize()\n",
    "    for c in bit_str:\n",
    "        if c == \"0\":\n",
    "            sm.dispatch(Event(\"0\"))\n",
    "        elif c == \"1\":\n",
    "            sm.dispatch(Event(\"1\"))\n",
    "        else:\n",
    "            raise Exception(\"Invalid input\")\n",
    "    return sm.state.name"
   ]
  },
  {
   "cell_type": "markdown",
   "metadata": {},
   "source": [
    "## Finite State Machines (Example)"
   ]
  },
  {
   "cell_type": "markdown",
   "metadata": {},
   "source": [
    "### For a language of all bit strings with even numbered zeros\n",
    "\n",
    "Create a \n",
    "- Regular Grammar and its complement\n",
    "- Finite state machine\n",
    "- Regular exression"
   ]
  },
  {
   "cell_type": "markdown",
   "metadata": {},
   "source": [
    "### Grammar"
   ]
  },
  {
   "cell_type": "code",
   "execution_count": 7,
   "metadata": {},
   "outputs": [],
   "source": [
    "grammar_str = \"\"\"\n",
    "A -> '1' A | '0' B | \n",
    "B -> '1' B | '0' A\n",
    "\"\"\"\n",
    "grammar = CFG.fromstring(grammar_str)\n",
    "\n",
    "complement_grammar_str = \"\"\"\n",
    "A -> '1' A | '0' B\n",
    "B -> '1' B | '0' A | \n",
    "\"\"\"\n",
    "complement_grammar = CFG.fromstring(complement_grammar_str)"
   ]
  },
  {
   "cell_type": "code",
   "execution_count": 8,
   "metadata": {},
   "outputs": [
    {
     "data": {
      "text/plain": [
       "['1111',\n",
       " '111',\n",
       " '1100',\n",
       " '11',\n",
       " '1010',\n",
       " '1001',\n",
       " '100',\n",
       " '1',\n",
       " '0110',\n",
       " '0101',\n",
       " '010',\n",
       " '0011',\n",
       " '001',\n",
       " '0000',\n",
       " '00',\n",
       " '']"
      ]
     },
     "execution_count": 8,
     "metadata": {},
     "output_type": "execute_result"
    }
   ],
   "source": [
    "language = []\n",
    "for i, sentence in enumerate(generate(grammar, depth = 5)):\n",
    "    language.append(\"\".join(sentence))\n",
    "language"
   ]
  },
  {
   "cell_type": "code",
   "execution_count": 9,
   "metadata": {},
   "outputs": [
    {
     "data": {
      "text/plain": [
       "['1110',\n",
       " '1101',\n",
       " '110',\n",
       " '1011',\n",
       " '101',\n",
       " '1000',\n",
       " '10',\n",
       " '0111',\n",
       " '011',\n",
       " '0100',\n",
       " '01',\n",
       " '0010',\n",
       " '0001',\n",
       " '000',\n",
       " '0']"
      ]
     },
     "execution_count": 9,
     "metadata": {},
     "output_type": "execute_result"
    }
   ],
   "source": [
    "complement_language = []\n",
    "for i, sentence in enumerate(generate(complement_grammar, depth = 5)):\n",
    "    complement_language.append(\"\".join(sentence))\n",
    "complement_language"
   ]
  },
  {
   "cell_type": "markdown",
   "metadata": {},
   "source": [
    "#### Regexp"
   ]
  },
  {
   "cell_type": "code",
   "execution_count": 10,
   "metadata": {},
   "outputs": [
    {
     "name": "stdout",
     "output_type": "stream",
     "text": [
      "True\n",
      "True\n",
      "True\n",
      "True\n",
      "True\n",
      "True\n",
      "True\n",
      "True\n",
      "True\n",
      "True\n",
      "True\n",
      "True\n",
      "True\n",
      "True\n",
      "True\n",
      "True\n"
     ]
    }
   ],
   "source": [
    "regexp = \"^(1*01*01*|1*)*$\"\n",
    "test_result = map(lambda x: True if re.match(regexp, x) is not None else False, language)\n",
    "for r in test_result:\n",
    "    print(r)"
   ]
  },
  {
   "cell_type": "code",
   "execution_count": 11,
   "metadata": {},
   "outputs": [
    {
     "name": "stdout",
     "output_type": "stream",
     "text": [
      "False\n",
      "False\n",
      "False\n",
      "False\n",
      "False\n",
      "False\n",
      "False\n",
      "False\n",
      "False\n",
      "False\n",
      "False\n",
      "False\n",
      "False\n",
      "False\n",
      "False\n"
     ]
    }
   ],
   "source": [
    "test_result = map(lambda x: True if re.match(regexp, x) is not None else False, complement_language)\n",
    "for r in test_result:\n",
    "    print(r)"
   ]
  },
  {
   "cell_type": "markdown",
   "metadata": {},
   "source": [
    "### Machine"
   ]
  },
  {
   "cell_type": "code",
   "execution_count": 12,
   "metadata": {},
   "outputs": [],
   "source": [
    "s_even = State(\"even\")\n",
    "s_odd = State(\"odd\")"
   ]
  },
  {
   "cell_type": "code",
   "execution_count": 13,
   "metadata": {},
   "outputs": [],
   "source": [
    "sm = StateMachine(\"sm\")"
   ]
  },
  {
   "cell_type": "code",
   "execution_count": 14,
   "metadata": {},
   "outputs": [],
   "source": [
    "sm.add_state(s_even, initial=True)\n",
    "sm.add_state(s_odd)"
   ]
  },
  {
   "cell_type": "code",
   "execution_count": 15,
   "metadata": {},
   "outputs": [],
   "source": [
    "sm.add_transition(s_even, s_odd, events=[\"0\"])\n",
    "sm.add_transition(s_odd, s_even, events=[\"0\"])"
   ]
  },
  {
   "cell_type": "code",
   "execution_count": 16,
   "metadata": {},
   "outputs": [
    {
     "data": {
      "text/plain": [
       "'even'"
      ]
     },
     "execution_count": 16,
     "metadata": {},
     "output_type": "execute_result"
    }
   ],
   "source": [
    "machine_frame(sm, \"010\")"
   ]
  },
  {
   "cell_type": "code",
   "execution_count": 17,
   "metadata": {},
   "outputs": [
    {
     "data": {
      "text/plain": [
       "'odd'"
      ]
     },
     "execution_count": 17,
     "metadata": {},
     "output_type": "execute_result"
    }
   ],
   "source": [
    "machine_frame(sm, \"01001\")"
   ]
  },
  {
   "cell_type": "code",
   "execution_count": 18,
   "metadata": {},
   "outputs": [
    {
     "name": "stdout",
     "output_type": "stream",
     "text": [
      "even\n",
      "even\n",
      "even\n",
      "even\n",
      "even\n",
      "even\n",
      "even\n",
      "even\n",
      "even\n",
      "even\n",
      "even\n",
      "even\n",
      "even\n",
      "even\n",
      "even\n",
      "even\n"
     ]
    }
   ],
   "source": [
    "machine_result = map(lambda x: machine_frame(sm, x), language)\n",
    "for r in machine_result:\n",
    "    print(r)"
   ]
  },
  {
   "cell_type": "code",
   "execution_count": 19,
   "metadata": {},
   "outputs": [
    {
     "name": "stdout",
     "output_type": "stream",
     "text": [
      "odd\n",
      "odd\n",
      "odd\n",
      "odd\n",
      "odd\n",
      "odd\n",
      "odd\n",
      "odd\n",
      "odd\n",
      "odd\n",
      "odd\n",
      "odd\n",
      "odd\n",
      "odd\n",
      "odd\n"
     ]
    }
   ],
   "source": [
    "machine_result = map(lambda x: machine_frame(sm, x), complement_language)\n",
    "for r in machine_result:\n",
    "    print(r)"
   ]
  },
  {
   "cell_type": "markdown",
   "metadata": {},
   "source": [
    "## For a language of all bit strings that start with `0` and ends with `1` (exercise)\n",
    "\n",
    "Create a \n",
    "- Regular Grammar and its complement\n",
    "- Finite state machine\n",
    "- Regular exression\n",
    "\n",
    "Do which you feel the easiest first"
   ]
  },
  {
   "cell_type": "markdown",
   "metadata": {},
   "source": [
    "## Push-Down machinmes"
   ]
  },
  {
   "cell_type": "markdown",
   "metadata": {},
   "source": [
    "## For a language of equal number of `0`s and `1` (Example)\n",
    "\n",
    "Create a \n",
    "- Context Free Grammar\n",
    "- Deterministic Push-down machine\n",
    "\n",
    "Do which you feel the easiest first"
   ]
  },
  {
   "cell_type": "code",
   "execution_count": 20,
   "metadata": {},
   "outputs": [],
   "source": [
    "grammar_str_3 = \"\"\"\n",
    "S -> '0' A | '1' B | \n",
    "A -> S A | A S | '1'\n",
    "B -> S B | B S | '0'\n",
    "\"\"\"\n",
    "grammar_3 = CFG.fromstring(grammar_str_3)"
   ]
  },
  {
   "cell_type": "code",
   "execution_count": 21,
   "metadata": {},
   "outputs": [
    {
     "data": {
      "text/plain": [
       "array(['', '0001101011', '00011011', '0001101101', '0001101110', '000111',\n",
       "       '0001110011', '00011101', '0001110101', '0001110110', '00011110',\n",
       "       '0001111001', '0001111010', '0010101011', '00101011', '0010101101',\n",
       "       '0010101110', '001011', '0010110011', '00101101', '0010110101',\n",
       "       '0010110110', '00101110', '0010111001', '0010111010', '0010111100',\n",
       "       '0011', '0011001011', '00110011', '0011001101', '0011001110',\n",
       "       '001101', '0011010011', '00110101', '0011010101', '0011010110',\n",
       "       '00110110', '0011011001', '0011011010', '0011011100', '001110',\n",
       "       '0011100011', '00111001', '0011100101', '0011100110', '00111010',\n",
       "       '0011101001', '0011101010', '0011101100', '00111100', '01',\n",
       "       '0100101011', '01001011', '0100101101', '0100101110', '010011',\n",
       "       '0100110011', '01001101', '0100110101', '0100110110', '01001110',\n",
       "       '0100111001', '0100111010', '0100111100', '0101', '0101001011',\n",
       "       '01010011', '0101001101', '0101001110', '010101', '0101010011',\n",
       "       '01010101', '0101010101', '0101010110', '01010110', '0101011001',\n",
       "       '0101011010', '0101011100', '010110', '0101100011', '01011001',\n",
       "       '0101100101', '0101100110', '01011010', '0101101001', '0101101010',\n",
       "       '0101101100', '01011100', '0110', '0110001011', '01100011',\n",
       "       '0110001101', '0110001110', '011001', '0110010011', '01100101',\n",
       "       '0110010101', '0110010110', '01100110', '0110011001', '0110011010',\n",
       "       '0110011100', '011010', '0110100011', '01101001', '0110100101',\n",
       "       '0110100110', '01101010', '0110101001', '0110101010', '0110101100',\n",
       "       '01101100', '011100', '10', '100011', '1001', '10010011', '100101',\n",
       "       '1001010011', '10010101', '1001010101', '1001010110', '10010110',\n",
       "       '1001011001', '1001011010', '1001011100', '100110', '1001100011',\n",
       "       '10011001', '1001100101', '1001100110', '10011010', '1001101001',\n",
       "       '1001101010', '1001101100', '10011100', '1001110001', '1001110010',\n",
       "       '1001110100', '1010', '10100011', '101001', '1010010011',\n",
       "       '10100101', '1010010101', '1010010110', '10100110', '1010011001',\n",
       "       '1010011010', '1010011100', '101010', '1010100011', '10101001',\n",
       "       '1010100101', '1010100110', '10101010', '1010101001', '1010101010',\n",
       "       '1010101100', '10101100', '1010110001', '1010110010', '1010110100',\n",
       "       '101100', '1011000011', '10110001', '1011000101', '1011000110',\n",
       "       '10110010', '1011001001', '1011001010', '1011001100', '10110100',\n",
       "       '1011010001', '1011010010', '1011010100', '1100', '11000011',\n",
       "       '110001', '1100010011', '11000101', '1100010101', '1100010110',\n",
       "       '11000110', '1100011001', '1100011010', '1100011100', '110010',\n",
       "       '1100100011', '11001001', '1100100101', '1100100110', '11001010',\n",
       "       '1100101001', '1100101010', '1100101100', '11001100', '1100110001',\n",
       "       '1100110010', '1100110100', '110100', '1101000011', '11010001',\n",
       "       '1101000101', '1101000110', '11010010', '1101001001', '1101001010',\n",
       "       '1101001100', '11010100', '1101010001', '1101010010', '1101010100',\n",
       "       '111000', '11100001', '1110000101', '1110000110', '11100010',\n",
       "       '1110001001', '1110001010', '1110001100', '11100100', '1110010001',\n",
       "       '1110010010', '1110010100'], dtype='<U10')"
      ]
     },
     "execution_count": 21,
     "metadata": {},
     "output_type": "execute_result"
    }
   ],
   "source": [
    "language_3 = []\n",
    "for i, sentence in enumerate(generate(grammar_3, depth = 7)):\n",
    "    language_3.append(\"\".join(sentence))\n",
    "language_arr_3 = np.unique(np.array(language_3))\n",
    "language_arr_3"
   ]
  },
  {
   "cell_type": "markdown",
   "metadata": {},
   "source": [
    "### Machine"
   ]
  },
  {
   "cell_type": "code",
   "execution_count": 22,
   "metadata": {},
   "outputs": [],
   "source": [
    "pdm_1 = StateMachine(\"pdm_1\")"
   ]
  },
  {
   "cell_type": "code",
   "execution_count": 23,
   "metadata": {},
   "outputs": [],
   "source": [
    "s_push = State(\"push\")\n",
    "s_pop = State(\"pop\")\n",
    "s_true = State(\"true\")"
   ]
  },
  {
   "cell_type": "code",
   "execution_count": 24,
   "metadata": {},
   "outputs": [],
   "source": [
    "pdm_1.add_state(s_push, initial=True)\n",
    "pdm_1.add_state(s_pop)\n",
    "pdm_1.add_state(s_true)"
   ]
  },
  {
   "cell_type": "markdown",
   "metadata": {},
   "source": [
    "Transition condition functions to make our machine see the stack"
   ]
  },
  {
   "cell_type": "code",
   "execution_count": 25,
   "metadata": {},
   "outputs": [],
   "source": [
    "def stack_is_empty(s, e):\n",
    "    try:\n",
    "        pdm_1.stack.peek()\n",
    "        return False\n",
    "    except IndexError:\n",
    "        return True\n",
    "    \n",
    "def stack_peek_a(s, e):\n",
    "    try:\n",
    "        if pdm_1.stack.peek() == \"a\":\n",
    "            return True\n",
    "        else:\n",
    "            return False\n",
    "    except IndexError:\n",
    "        return False\n",
    "    \n",
    "def stack_peek_b(s, e):\n",
    "    try:\n",
    "        if pdm_1.stack.peek() == \"b\":\n",
    "            return True\n",
    "        else:\n",
    "            return False\n",
    "    except IndexError:\n",
    "        return False"
   ]
  },
  {
   "cell_type": "code",
   "execution_count": 26,
   "metadata": {},
   "outputs": [],
   "source": [
    "# push state\n",
    "## stay\n",
    "pdm_1.add_transition(\n",
    "    s_push, s_push, \n",
    "    events=[\"0\"],\n",
    "    condition= lambda s, e : stack_is_empty(s, e) or stack_peek_a(s, e),\n",
    "    action= lambda s, e : pdm_1.stack.push(\"a\"))\n",
    "\n",
    "pdm_1.add_transition(\n",
    "    s_push, s_push, \n",
    "    events=[\"1\"],\n",
    "    condition= lambda s, e : stack_is_empty(s, e) or stack_peek_b(s, e),\n",
    "    action= lambda s, e : pdm_1.stack.push(\"b\"))\n",
    "# move to push\n",
    "pdm_1.add_transition(\n",
    "    s_push, s_pop, \n",
    "    events=[\"0\"],\n",
    "    condition= lambda s, e : stack_peek_b(s, e),\n",
    "    action= lambda s, e : pdm_1.stack.pop())\n",
    "\n",
    "pdm_1.add_transition(\n",
    "    s_push, s_pop, \n",
    "    events=[\"1\"],\n",
    "    condition= lambda s, e : stack_peek_a(s, e),\n",
    "    action= lambda s, e : pdm_1.stack.pop())\n",
    "\n",
    "# pop state\n",
    "## stay\n",
    "pdm_1.add_transition(\n",
    "    s_pop, s_pop, \n",
    "    events=[\"0\"],\n",
    "    condition= lambda s, e : stack_peek_b(s, e),\n",
    "    action= lambda s, e : pdm_1.stack.pop())\n",
    "\n",
    "pdm_1.add_transition(\n",
    "    s_pop, s_pop, \n",
    "    events=[\"1\"],\n",
    "    condition= lambda s, e : stack_peek_a(s, e),\n",
    "    action= lambda s, e : pdm_1.stack.pop())\n",
    "## move to push\n",
    "pdm_1.add_transition(\n",
    "    s_pop, s_push, \n",
    "    events=[\"0\"],\n",
    "    condition= lambda s, e : stack_is_empty(s, e) or stack_peek_a(s, e),\n",
    "    action= lambda s, e : pdm_1.stack.push(\"a\"))\n",
    "\n",
    "pdm_1.add_transition(\n",
    "    s_pop, s_push, \n",
    "    events=[\"1\"],\n",
    "    condition= lambda s, e : stack_is_empty(s, e) or stack_peek_b(s, e),\n",
    "    action= lambda s, e : pdm_1.stack.push(\"b\"))\n",
    "## move to true\n",
    "pdm_1.add_transition(\n",
    "    s_pop, s_true,\n",
    "    events=[\"e\"],\n",
    "    condition= lambda s, e : stack_is_empty(s, e))"
   ]
  },
  {
   "cell_type": "code",
   "execution_count": 27,
   "metadata": {},
   "outputs": [],
   "source": [
    "def pmd_1_frame(sm, bit_str):\n",
    "    sm.initialize()\n",
    "   \n",
    "    # clear stack\n",
    "    while True:\n",
    "        try:\n",
    "            sm.stack.pop()\n",
    "        except IndexError:\n",
    "            break\n",
    "    \n",
    "    for c in bit_str:\n",
    "        if c == \"0\":\n",
    "            sm.dispatch(Event(\"0\"))\n",
    "        elif c == \"1\":\n",
    "            sm.dispatch(Event(\"1\"))\n",
    "        elif c == \"e\":\n",
    "            sm.dispatch(Event(\"e\"))\n",
    "        else:\n",
    "            raise Exception(\"Invalid input\")\n",
    "    try:\n",
    "        sm.stack.peek()\n",
    "        return False\n",
    "    except IndexError:\n",
    "        return True"
   ]
  },
  {
   "cell_type": "code",
   "execution_count": 28,
   "metadata": {},
   "outputs": [
    {
     "data": {
      "text/plain": [
       "True"
      ]
     },
     "execution_count": 28,
     "metadata": {},
     "output_type": "execute_result"
    }
   ],
   "source": [
    "pmd_1_frame(pdm_1, '011000011101e')"
   ]
  },
  {
   "cell_type": "markdown",
   "metadata": {},
   "source": [
    "## For the language (Exercise):\n",
    "\n",
    "$0^{n}10^{n}$\n",
    "\n",
    "Create a \n",
    "- Context Free Grammar\n",
    "- Deterministic Push-down machine\n",
    "\n",
    "Do which you feel the easiest first"
   ]
  },
  {
   "cell_type": "markdown",
   "metadata": {},
   "source": [
    "# Constituency Grammar"
   ]
  },
  {
   "cell_type": "markdown",
   "metadata": {},
   "source": [
    "## Declarative sentence (example)"
   ]
  },
  {
   "cell_type": "code",
   "execution_count": 29,
   "metadata": {},
   "outputs": [],
   "source": [
    "def show_random_sentence(sentences):\n",
    "    rand_ind = random.randint(0, len(sentences))\n",
    "    return sentences[rand_ind]"
   ]
  },
  {
   "cell_type": "code",
   "execution_count": 30,
   "metadata": {},
   "outputs": [],
   "source": [
    "grammar_str = \"\"\"\n",
    "S -> NP VP PP\n",
    "Wh -> 'where'\n",
    "NP -> ProperNoun\n",
    "NP -> Det N\n",
    "NP -> Adj ProperNoun\n",
    "NP -> Det Adj N\n",
    "PP -> Adp NP\n",
    "VP -> 'slept'\n",
    "VP -> V NP\n",
    "VP -> 'walked' PP\n",
    "Det -> 'the'\n",
    "Det -> 'a'\n",
    "V -> 'rode'\n",
    "V -> 'discovered'\n",
    "V -> 'Walked'\n",
    "v -> 'Seduced'\n",
    "ProperNoun -> 'Trump'\n",
    "ProperNoun -> 'Kerrigan'\n",
    "ProperNoun -> 'Joan of Arc'\n",
    "ProperNoun -> 'Jack Ketch'\n",
    "N -> 'chicken'\n",
    "Adj -> 'pretty'\n",
    "Adj -> 'magnificent'\n",
    "Adj -> 'enraged'\n",
    "Adj -> 'suprised'\n",
    "Adp -> 'in'\n",
    "Adp -> 'with'\n",
    "Adp -> 'in'\n",
    "Adp -> 'by'\n",
    "\"\"\"\n",
    "\n",
    "grammar_cfg = CFG.fromstring(grammar_str)"
   ]
  },
  {
   "cell_type": "code",
   "execution_count": 31,
   "metadata": {},
   "outputs": [],
   "source": [
    "language_n = []\n",
    "for sentence in generate(grammar_cfg):\n",
    "    language_n.append(' '.join(sentence))"
   ]
  },
  {
   "cell_type": "code",
   "execution_count": 32,
   "metadata": {},
   "outputs": [
    {
     "data": {
      "text/plain": [
       "'the enraged chicken walked in enraged Jack Ketch in Joan of Arc'"
      ]
     },
     "execution_count": 32,
     "metadata": {},
     "output_type": "execute_result"
    }
   ],
   "source": [
    "show_random_sentence(language_n)"
   ]
  },
  {
   "cell_type": "markdown",
   "metadata": {},
   "source": [
    "## Question (exercise)\n",
    "\n",
    "Define a Context Free Grammar grammar which can generate syntacticly valid English questions"
   ]
  },
  {
   "cell_type": "code",
   "execution_count": null,
   "metadata": {},
   "outputs": [],
   "source": []
  }
 ],
 "metadata": {
  "kernelspec": {
   "display_name": "Python 3",
   "language": "python",
   "name": "python3"
  },
  "language_info": {
   "codemirror_mode": {
    "name": "ipython",
    "version": 3
   },
   "file_extension": ".py",
   "mimetype": "text/x-python",
   "name": "python",
   "nbconvert_exporter": "python",
   "pygments_lexer": "ipython3",
   "version": "3.8.5"
  }
 },
 "nbformat": 4,
 "nbformat_minor": 4
}
